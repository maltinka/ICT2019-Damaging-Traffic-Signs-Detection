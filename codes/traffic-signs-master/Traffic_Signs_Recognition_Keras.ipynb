{
 "cells": [
  {
   "cell_type": "markdown",
   "metadata": {},
   "source": [
    "# German Traffic Sign Classification\n",
    "\n",
    "---"
   ]
  },
  {
   "cell_type": "code",
   "execution_count": 308,
   "metadata": {
    "scrolled": true
   },
   "outputs": [
    {
     "name": "stdout",
     "output_type": "stream",
     "text": [
      "<class 'pandas.core.frame.DataFrame'>\n",
      "Int64Index: 39209 entries, 0 to 239\n",
      "Data columns (total 9 columns):\n",
      "Filename    39209 non-null object\n",
      "Width       39209 non-null int64\n",
      "Height      39209 non-null int64\n",
      "Roi.X1      39209 non-null int64\n",
      "Roi.Y1      39209 non-null int64\n",
      "Roi.X2      39209 non-null int64\n",
      "Roi.Y2      39209 non-null int64\n",
      "ClassId     39209 non-null int64\n",
      "Damage      39209 non-null int64\n",
      "dtypes: int64(8), object(1)\n",
      "memory usage: 3.0+ MB\n"
     ]
    }
   ],
   "source": [
    "import pandas as pd\n",
    "\n",
    "df_total = pd.DataFrame()\n",
    "for i in range(0,43):\n",
    "    csv_file = '..\\..\\datasets\\GTSRB_data\\Final_Training\\Images\\%05d\\GT-%05d.csv' % (i, i)\n",
    "    the_path = '..\\..\\datasets\\GTSRB_data\\Final_Training\\Images\\%05d\\\\' % (i) \n",
    "    df=pd.read_csv(csv_file)\n",
    "    df['Filename'] = the_path + df['Filename'] # prepend path to filename\n",
    "    df_total = df_total.append(df) # append all dataframes to df_total\n",
    "    \n",
    "df_total.info() # display some information\n",
    "#df_total['Filename'].head() # look at a few rows"
   ]
  },
  {
   "cell_type": "code",
   "execution_count": 309,
   "metadata": {},
   "outputs": [],
   "source": [
    "df_total = df_total.astype({\"Damage\": str}) # convert damage column to string\n",
    "#df_total.info()"
   ]
  },
  {
   "cell_type": "code",
   "execution_count": 310,
   "metadata": {},
   "outputs": [
    {
     "name": "stdout",
     "output_type": "stream",
     "text": [
      "31367\n",
      "3921\n",
      "3921\n",
      "39209\n",
      "39209\n"
     ]
    },
    {
     "data": {
      "text/html": [
       "<div>\n",
       "<style scoped>\n",
       "    .dataframe tbody tr th:only-of-type {\n",
       "        vertical-align: middle;\n",
       "    }\n",
       "\n",
       "    .dataframe tbody tr th {\n",
       "        vertical-align: top;\n",
       "    }\n",
       "\n",
       "    .dataframe thead th {\n",
       "        text-align: right;\n",
       "    }\n",
       "</style>\n",
       "<table border=\"1\" class=\"dataframe\">\n",
       "  <thead>\n",
       "    <tr style=\"text-align: right;\">\n",
       "      <th></th>\n",
       "      <th>Filename</th>\n",
       "      <th>Width</th>\n",
       "      <th>Height</th>\n",
       "      <th>Roi.X1</th>\n",
       "      <th>Roi.Y1</th>\n",
       "      <th>Roi.X2</th>\n",
       "      <th>Roi.Y2</th>\n",
       "      <th>ClassId</th>\n",
       "    </tr>\n",
       "    <tr>\n",
       "      <th>Damage</th>\n",
       "      <th></th>\n",
       "      <th></th>\n",
       "      <th></th>\n",
       "      <th></th>\n",
       "      <th></th>\n",
       "      <th></th>\n",
       "      <th></th>\n",
       "      <th></th>\n",
       "    </tr>\n",
       "  </thead>\n",
       "  <tbody>\n",
       "    <tr>\n",
       "      <th>0</th>\n",
       "      <td>28385</td>\n",
       "      <td>28385</td>\n",
       "      <td>28385</td>\n",
       "      <td>28385</td>\n",
       "      <td>28385</td>\n",
       "      <td>28385</td>\n",
       "      <td>28385</td>\n",
       "      <td>28385</td>\n",
       "    </tr>\n",
       "    <tr>\n",
       "      <th>1</th>\n",
       "      <td>2982</td>\n",
       "      <td>2982</td>\n",
       "      <td>2982</td>\n",
       "      <td>2982</td>\n",
       "      <td>2982</td>\n",
       "      <td>2982</td>\n",
       "      <td>2982</td>\n",
       "      <td>2982</td>\n",
       "    </tr>\n",
       "  </tbody>\n",
       "</table>\n",
       "</div>"
      ],
      "text/plain": [
       "        Filename  Width  Height  Roi.X1  Roi.Y1  Roi.X2  Roi.Y2  ClassId\n",
       "Damage                                                                  \n",
       "0          28385  28385   28385   28385   28385   28385   28385    28385\n",
       "1           2982   2982    2982    2982    2982    2982    2982     2982"
      ]
     },
     "execution_count": 310,
     "metadata": {},
     "output_type": "execute_result"
    }
   ],
   "source": [
    "# create trn, val, tst split\n",
    "import math\n",
    "from sklearn.utils import shuffle\n",
    "df_total_shuffled = shuffle(df_total, random_state=42)\n",
    "\n",
    "trn_percentage = 0.8 # use 80 for training\n",
    "val_percentage = 0.9 # use samples 0.8 to 0.9 for validation, rest for testing\n",
    "\n",
    "trn_split = math.floor(len(df_total_shuffled)*trn_percentage)\n",
    "val_split = math.floor(len(df_total_shuffled)*val_percentage)\n",
    "\n",
    "df_trn = df_total_shuffled.iloc[0:trn_split]\n",
    "df_val = df_total_shuffled.iloc[trn_split:val_split]\n",
    "df_tst = df_total_shuffled.iloc[val_split:]\n",
    "\n",
    "# check if sizes are correct\n",
    "print(len(df_train))\n",
    "print(len(df_val))\n",
    "print(len(df_tst))\n",
    "print(len(df_trn) + len(df_val) + len(df_tst))\n",
    "print(len(df_total_shuffled))\n",
    "\n",
    "df_trn.groupby('Damage').count()\n",
    "#df_val.groupby('Damage').count()\n",
    "#df_tst.groupby('Damage').count()"
   ]
  },
  {
   "cell_type": "code",
   "execution_count": 311,
   "metadata": {},
   "outputs": [
    {
     "name": "stdout",
     "output_type": "stream",
     "text": [
      "Found 31367 images belonging to 2 classes.\n"
     ]
    },
    {
     "data": {
      "text/plain": [
       "(31360, 64, 64, 1)"
      ]
     },
     "execution_count": 311,
     "metadata": {},
     "output_type": "execute_result"
    }
   ],
   "source": [
    "from keras_preprocessing.image import ImageDataGenerator\n",
    "\n",
    "im_w = 64\n",
    "im_h = 64\n",
    "im_c = 1\n",
    "bs = 128\n",
    "\n",
    "\n",
    "datagen_temp = ImageDataGenerator()\n",
    "gen_temp=datagen_temp.flow_from_dataframe(dataframe=df_trn, directory=\".\", x_col=\"Filename\", y_col=\"Damage\", class_mode=\"categorical\", target_size=(im_w,im_h), batch_size=bs, color_mode='grayscale')\n",
    "\n",
    "step_size_tmp = gen_temp.n//bs\n",
    "import numpy as np\n",
    "X_temp = np.empty((0,im_w,im_h,im_c))\n",
    "for i in range(0, step_size_tmp):\n",
    "    (X,y) = gen_temp[i]\n",
    "    X_temp = np.concatenate((X_temp,X), axis=0)\n",
    "X_temp.shape"
   ]
  },
  {
   "cell_type": "code",
   "execution_count": 312,
   "metadata": {},
   "outputs": [
    {
     "data": {
      "text/plain": [
       "31360"
      ]
     },
     "execution_count": 312,
     "metadata": {},
     "output_type": "execute_result"
    }
   ],
   "source": [
    "step_size_tmp*128"
   ]
  },
  {
   "cell_type": "code",
   "execution_count": 313,
   "metadata": {},
   "outputs": [
    {
     "name": "stdout",
     "output_type": "stream",
     "text": [
      "Found 31367 images belonging to 2 classes.\n",
      "Found 3921 images belonging to 2 classes.\n",
      "Found 3921 images belonging to 2 classes.\n"
     ]
    },
    {
     "data": {
      "text/plain": [
       "122"
      ]
     },
     "execution_count": 313,
     "metadata": {},
     "output_type": "execute_result"
    }
   ],
   "source": [
    "\n",
    "flow_args = dict(directory=\".\", \n",
    "    x_col=\"Filename\", \n",
    "    y_col=\"Damage\", \n",
    "    class_mode=\"categorical\", \n",
    "    target_size=(im_w,im_h), \n",
    "    batch_size=bs, \n",
    "    color_mode='grayscale')\n",
    "\n",
    "generator_args = dict(featurewise_center=True, featurewise_std_normalization=True)\n",
    "\n",
    "# build the generators\n",
    "datagen_trn=ImageDataGenerator(**generator_args)\n",
    "datagen_trn.fit(X_temp)\n",
    "gen_trn=datagen_trn.flow_from_dataframe(dataframe=df_trn, **flow_args)\n",
    "\n",
    "datagen_val=ImageDataGenerator(**generator_args)\n",
    "datagen_val.fit(X_temp)\n",
    "gen_val=datagen_val.flow_from_dataframe(dataframe=df_val, **flow_args)\n",
    "\n",
    "datagen_tst=ImageDataGenerator(**generator_args)\n",
    "datagen_tst.fit(X_temp)\n",
    "gen_tst=datagen_tst.flow_from_dataframe(dataframe=df_tst, **flow_args)\n",
    "\n",
    "STEP_SIZE_TRAIN=gen_trn.n//train_generator.batch_size\n",
    "STEP_SIZE_VAL=gen_val.n//train_generator.batch_size\n",
    "STEP_SIZE_TST=gen_tst.n//train_generator.batch_size\n",
    "STEP_SIZE_TST"
   ]
  },
  {
   "cell_type": "code",
   "execution_count": 314,
   "metadata": {},
   "outputs": [
    {
     "data": {
      "text/plain": [
       "(31360, 64, 64, 1)"
      ]
     },
     "execution_count": 314,
     "metadata": {},
     "output_type": "execute_result"
    }
   ],
   "source": [
    "X_temp = np.empty((0,im_w,im_h,im_c))\n",
    "for i in range(0, step_size_tmp):\n",
    "    (X,y) = gen_trn[i]\n",
    "    X_temp = np.concatenate((X_temp,X), axis=0)\n",
    "X_temp.shape\n"
   ]
  },
  {
   "cell_type": "code",
   "execution_count": 315,
   "metadata": {},
   "outputs": [
    {
     "data": {
      "image/png": "[encoded data removed]",
      "text/plain": [
       "<matplotlib.figure.Figure at 0x248a8b0d828>"
      ]
     },
     "metadata": {},
     "output_type": "display_data"
    }
   ],
   "source": [
    "import matplotlib.pyplot as plt\n",
    "\n",
    "plt.imshow(X_temp[50,:,:,0])\n",
    "plt.show()\n"
   ]
  },
  {
   "cell_type": "code",
   "execution_count": 324,
   "metadata": {},
   "outputs": [
    {
     "data": {
      "image/png": "[encoded data removed]",
      "text/plain": [
       "<matplotlib.figure.Figure at 0x248a1f59be0>"
      ]
     },
     "metadata": {},
     "output_type": "display_data"
    }
   ],
   "source": [
    "plt.imshow(np.std(X_temp[:,:,:,0],axis=0))\n",
    "plt.show()"
   ]
  },
  {
   "cell_type": "markdown",
   "metadata": {},
   "source": [
    "**Model architecture**\n",
    "\n",
    "I use the same architecture as the german guys\n",
    "\n",
    "![Model](model_architecture.png)\n",
    "\n"
   ]
  },
  {
   "cell_type": "code",
   "execution_count": 325,
   "metadata": {},
   "outputs": [
    {
     "name": "stdout",
     "output_type": "stream",
     "text": [
      "_________________________________________________________________\n",
      "Layer (type)                 Output Shape              Param #   \n",
      "=================================================================\n",
      "conv2d_76 (Conv2D)           (None, 64, 64, 32)        832       \n",
      "_________________________________________________________________\n",
      "max_pooling2d_72 (MaxPooling (None, 32, 32, 32)        0         \n",
      "_________________________________________________________________\n",
      "conv2d_77 (Conv2D)           (None, 32, 32, 64)        51264     \n",
      "_________________________________________________________________\n",
      "max_pooling2d_73 (MaxPooling (None, 8, 8, 64)          0         \n",
      "_________________________________________________________________\n",
      "conv2d_78 (Conv2D)           (None, 8, 8, 128)         204928    \n",
      "_________________________________________________________________\n",
      "max_pooling2d_74 (MaxPooling (None, 4, 4, 128)         0         \n",
      "_________________________________________________________________\n",
      "flatten_23 (Flatten)         (None, 2048)              0         \n",
      "_________________________________________________________________\n",
      "dropout_34 (Dropout)         (None, 2048)              0         \n",
      "_________________________________________________________________\n",
      "dense_41 (Dense)             (None, 1024)              2098176   \n",
      "_________________________________________________________________\n",
      "dropout_35 (Dropout)         (None, 1024)              0         \n",
      "_________________________________________________________________\n",
      "dense_42 (Dense)             (None, 2)                 2050      \n",
      "=================================================================\n",
      "Total params: 2,357,250\n",
      "Trainable params: 2,357,250\n",
      "Non-trainable params: 0\n",
      "_________________________________________________________________\n"
     ]
    }
   ],
   "source": [
    "from __future__ import print_function\n",
    "import keras\n",
    "from keras.models import Sequential\n",
    "from keras.layers import Dense, Dropout, Flatten\n",
    "from keras.layers import Conv2D, MaxPooling2D\n",
    "from keras import backend as K\n",
    "\n",
    "# build a simple model\n",
    "model = Sequential()\n",
    "\n",
    "input_shape = (im_w, im_h, im_c)\n",
    "num_classes = 2\n",
    "\n",
    "model.add(Conv2D(32, (5, 5), activation='relu', input_shape=input_shape, padding='same'))\n",
    "model.add(MaxPooling2D(pool_size=(2, 2)))\n",
    "model.add(Conv2D(64, (5, 5), activation='relu', padding='same'))\n",
    "model.add(MaxPooling2D(pool_size=(4, 4)))\n",
    "model.add(Conv2D(128, (5, 5), activation='relu', padding='same'))\n",
    "model.add(MaxPooling2D(pool_size=(2, 2)))\n",
    "model.add(Flatten())\n",
    "model.add(Dropout(0.5))\n",
    "model.add(Dense(1024, activation='relu'))\n",
    "model.add(Dropout(0.5))\n",
    "model.add(Dense(num_classes, activation='softmax'))\n",
    "\n",
    "model.summary()\n"
   ]
  },
  {
   "cell_type": "code",
   "execution_count": 326,
   "metadata": {},
   "outputs": [],
   "source": [
    "# compile model\n",
    "model.compile(loss=keras.losses.categorical_crossentropy,\n",
    "              optimizer=keras.optimizers.Adam(),\n",
    "              metrics=['accuracy'])"
   ]
  },
  {
   "cell_type": "code",
   "execution_count": null,
   "metadata": {},
   "outputs": [],
   "source": []
  },
  {
   "cell_type": "code",
   "execution_count": 283,
   "metadata": {},
   "outputs": [
    {
     "data": {
      "text/plain": [
       "array([128.45074 , 180.68013 ,  40.91138 , 150.5195  ,  66.65825 ,\n",
       "       101.23263 , 182.15137 ,  20.31388 ,  49.00325 , 142.42763 ,\n",
       "       146.84137 ,  43.118256, 149.78387 ,  28.405754,  46.79638 ,\n",
       "        62.2445  ,  98.29013 ,  15.90013 ,  46.060753, 114.47388 ,\n",
       "       176.26637 ,  32.08388 , 105.64638 , 127.715126,  52.681377,\n",
       "        55.623875,  68.86513 , 187.30075 ,  82.842   , 187.30075 ,\n",
       "        89.46262 ,  36.49763 ], dtype=float32)"
      ]
     },
     "execution_count": 283,
     "metadata": {},
     "output_type": "execute_result"
    }
   ],
   "source": [
    "X, y = gen_trn[0]\n",
    "X[:,1,1,0]"
   ]
  },
  {
   "cell_type": "code",
   "execution_count": null,
   "metadata": {},
   "outputs": [
    {
     "name": "stdout",
     "output_type": "stream",
     "text": [
      "Epoch 1/20\n",
      "980/980 [==============================] - 112s 114ms/step - loss: 0.8329 - acc: 0.7867 - val_loss: 0.2721 - val_acc: 0.8914: 1:51 - loss: 1. - ETA: 1:43 - loss: 1.1273 - acc: 0.6 - ETA: 1:42 - loss: 1.1281 - acc: 0.6 - ETA: 1:41 - - ETA: 1:34 - loss: 1.1162 - acc: 0.6 - ETA: 1:34 - l - ETA: 1:13 - loss: 1.  - ETA: 1:02 - loss: 1.0327 - acc:  - ETA: 1:01 - loss: 1.0 - ETA: 1:00 - loss: 1 - ETA: 59s - loss: 1.0215 - acc - ETA: 58s - loss:  - ETA: 57s - loss: 1.0172 - acc: 0.71 - ETA: 57s - loss: 1. - ETA: 56s - loss: - ETA: 8s - loss: 0.8601  - ETA: 7s - loss: 0.8 - ETA: - ETA: 2s - loss:  - ETA: 0s - loss: 0.8335 - acc: 0.786 - ETA: 0s - loss: 0.8332 - acc: 0.786\n",
      "Epoch 2/20\n",
      "980/980 [==============================] - 103s 105ms/step - loss: 0.3669 - acc: 0.9167 - val_loss: 0.1498 - val_acc: 0.93800 - ETA: 1:19 - loss: 0.4895 - acc: 0.88 - ETA: 1:19 - loss: 0.4873 - ETA: 1:18 - loss: 0.4873 - acc: 0.8 - ETA: 1:17 - loss: 0.4868 - acc: 0.88  - ETA: 37s - loss:  - ETA: 20s - loss: 0.3929 - acc: 0.91 - ETA:  - ETA: 18s - loss: 0.3896 - a - ETA: 14s - loss: 0.3829 - a - ETA: 13s - loss: 0.3821 - acc: 0.91 - ETA: 13s - loss: 0.3819 - - ETA: 13s - ETA: 9s - loss: 0.3775 - acc: 0.9 - ETA: 8s - loss: 0.3769 - acc: -  - ETA: 4s - loss: 0.3718 - acc: 0.915 - ETA: 4s - loss: - ETA: 2s - loss: 0.370 - ETA: 1s - loss: 0.3685 - \n",
      "Epoch 3/20\n",
      "185/980 [====>.........................] - ETA: 1:15 - loss: 0.2420 - acc: 0.9466- ETA: 1:17 - loss:  - ETA: 1:17 - loss: 0.2449 - acc: - ETA: 1:17 - loss: 0.2424 - acc: 0.9 - ETA: 1:17 - loss: 0.241 - ETA: 1:16 - loss - ETA: 1:16 - loss: 0.2420 - acc: 0.9"
     ]
    }
   ],
   "source": [
    "# train the model\n",
    "\n",
    "history = model.fit_generator(gen_trn, # input data\n",
    "    steps_per_epoch=STEP_SIZE_TRAIN,\n",
    "    validation_data=gen_val,\n",
    "    validation_steps=STEP_SIZE_VAL,\n",
    "    epochs=20,      \n",
    "    verbose=1,\n",
    "    class_weight={0:1, 1:8},\n",
    "    use_multiprocessing=False)    \n",
    "\n",
    "print('Training complete!')"
   ]
  },
  {
   "cell_type": "code",
   "execution_count": 246,
   "metadata": {},
   "outputs": [
    {
     "data": {
      "image/png": "[encoded data removed]",
      "text/plain": [
       "<matplotlib.figure.Figure at 0x24886f1d7b8>"
      ]
     },
     "metadata": {},
     "output_type": "display_data"
    },
    {
     "data": {
      "image/png": "[encoded data removed]",
      "text/plain": [
       "<matplotlib.figure.Figure at 0x24886f1dbe0>"
      ]
     },
     "metadata": {},
     "output_type": "display_data"
    }
   ],
   "source": [
    "import matplotlib.pyplot as plt\n",
    "\n",
    "# Plot training & validation accuracy values\n",
    "plt.plot(history.history['acc'])\n",
    "plt.plot(history.history['val_acc'])\n",
    "plt.title('Model accuracy')\n",
    "plt.ylabel('Accuracy')\n",
    "plt.xlabel('Epoch')\n",
    "plt.legend(['Train', 'Val'], loc='upper left')\n",
    "plt.show()\n",
    "\n",
    "# Plot training & validation loss values\n",
    "plt.plot(history.history['loss'])\n",
    "plt.plot(history.history['val_loss'])\n",
    "plt.title('Model loss')\n",
    "plt.ylabel('Loss')\n",
    "plt.xlabel('Epoch')\n",
    "plt.legend(['Train', 'Val'], loc='upper left')\n",
    "plt.show()"
   ]
  },
  {
   "cell_type": "code",
   "execution_count": 247,
   "metadata": {},
   "outputs": [
    {
     "name": "stdout",
     "output_type": "stream",
     "text": [
      "122/122 [==============================] - 2s 18ms/step\n"
     ]
    }
   ],
   "source": [
    "y_pred_tst = model.predict_generator(gen_tst, steps=STEP_SIZE_TST, max_queue_size=10, workers=1, use_multiprocessing=False, verbose=1)"
   ]
  },
  {
   "cell_type": "code",
   "execution_count": 248,
   "metadata": {},
   "outputs": [
    {
     "data": {
      "text/plain": [
       "array([3904.,    0.], dtype=float32)"
      ]
     },
     "execution_count": 248,
     "metadata": {},
     "output_type": "execute_result"
    }
   ],
   "source": [
    "np.sum(y_pred_tst[:,:],axis=0)"
   ]
  },
  {
   "cell_type": "code",
   "execution_count": null,
   "metadata": {},
   "outputs": [],
   "source": []
  },
  {
   "cell_type": "code",
   "execution_count": 249,
   "metadata": {},
   "outputs": [
    {
     "name": "stdout",
     "output_type": "stream",
     "text": [
      "accuracy chance: 0.875\n"
     ]
    }
   ],
   "source": [
    "import numpy as np\n",
    "y_total = np.empty((0,2))\n",
    "for i in range(0, STEP_SIZE_TST):\n",
    "    (X,y) = gen_tst[0]\n",
    "    y_total = np.concatenate((y_total,y), axis=0)\n",
    "\n",
    "class_freq = np.sum(y_total,axis=0)\n",
    "accuracy_chance = (class_freq[0]+class_freq[1]-class_freq[1])/(class_freq[1]+class_freq[0])\n",
    "print('accuracy chance: %g' % accuracy_chance)"
   ]
  },
  {
   "cell_type": "code",
   "execution_count": 250,
   "metadata": {},
   "outputs": [
    {
     "name": "stdout",
     "output_type": "stream",
     "text": [
      "model AUC: 0.5\n"
     ]
    }
   ],
   "source": [
    "import sklearn.metrics\n",
    "auc = sklearn.metrics.roc_auc_score(y_total, y_pred_tst)\n",
    "print('model AUC: %g' % auc)"
   ]
  },
  {
   "cell_type": "code",
   "execution_count": 251,
   "metadata": {},
   "outputs": [
    {
     "name": "stdout",
     "output_type": "stream",
     "text": [
      "model accuracy: 0.875\n"
     ]
    }
   ],
   "source": [
    "accuracy = sklearn.metrics.accuracy_score(y_total, y_pred_tst)\n",
    "print('model accuracy: %g' % accuracy)"
   ]
  },
  {
   "cell_type": "code",
   "execution_count": null,
   "metadata": {
    "collapsed": true
   },
   "outputs": [],
   "source": []
  },
  {
   "cell_type": "code",
   "execution_count": null,
   "metadata": {
    "collapsed": true
   },
   "outputs": [],
   "source": []
  }
 ],
 "metadata": {
  "anaconda-cloud": {},
  "kernelspec": {
   "display_name": "Python 3",
   "language": "python",
   "name": "python3"
  },
  "language_info": {
   "codemirror_mode": {
    "name": "ipython",
    "version": 3
   },
   "file_extension": ".py",
   "mimetype": "text/x-python",
   "name": "python",
   "nbconvert_exporter": "python",
   "pygments_lexer": "ipython3",
   "version": "3.5.2"
  }
 },
 "nbformat": 4,
 "nbformat_minor": 1
}
