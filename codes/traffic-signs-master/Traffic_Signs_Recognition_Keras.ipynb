{
 "cells": [
  {
   "cell_type": "markdown",
   "metadata": {},
   "source": [
    "# German Traffic Sign Classification\n",
    "\n",
    "---"
   ]
  },
  {
   "cell_type": "code",
   "execution_count": 1,
   "metadata": {
    "scrolled": true
   },
   "outputs": [
    {
     "name": "stdout",
     "output_type": "stream",
     "text": [
      "<class 'pandas.core.frame.DataFrame'>\n",
      "Int64Index: 39209 entries, 0 to 239\n",
      "Data columns (total 9 columns):\n",
      "Filename    39209 non-null object\n",
      "Width       39209 non-null int64\n",
      "Height      39209 non-null int64\n",
      "Roi.X1      39209 non-null int64\n",
      "Roi.Y1      39209 non-null int64\n",
      "Roi.X2      39209 non-null int64\n",
      "Roi.Y2      39209 non-null int64\n",
      "ClassId     39209 non-null int64\n",
      "Damage      39209 non-null int64\n",
      "dtypes: int64(8), object(1)\n",
      "memory usage: 3.0+ MB\n"
     ]
    }
   ],
   "source": [
    "import pandas as pd\n",
    "\n",
    "df_total = pd.DataFrame()\n",
    "for i in range(0,43):\n",
    "    csv_file = '..\\..\\datasets\\GTSRB_data\\Final_Training\\Images\\%05d\\GT-%05d.csv' % (i, i)\n",
    "    the_path = '..\\..\\datasets\\GTSRB_data\\Final_Training\\Images\\%05d\\\\' % (i) \n",
    "    df=pd.read_csv(csv_file)\n",
    "    df['Filename'] = the_path + df['Filename'] # prepend path to filename\n",
    "    df_total = df_total.append(df) # append all dataframes to df_total\n",
    "    \n",
    "df_total.info() # display some information\n",
    "#df_total['Filename'].head() # look at a few rows"
   ]
  },
  {
   "cell_type": "code",
   "execution_count": 2,
   "metadata": {},
   "outputs": [],
   "source": [
    "df_total = df_total.astype({\"Damage\": str}) # convert damage column to string\n",
    "#df_total.info()"
   ]
  },
  {
   "cell_type": "code",
   "execution_count": 3,
   "metadata": {},
   "outputs": [
    {
     "name": "stdout",
     "output_type": "stream",
     "text": [
      "31367\n",
      "3921\n",
      "3921\n",
      "39209\n",
      "39209\n"
     ]
    },
    {
     "data": {
      "text/html": [
       "<div>\n",
       "<style scoped>\n",
       "    .dataframe tbody tr th:only-of-type {\n",
       "        vertical-align: middle;\n",
       "    }\n",
       "\n",
       "    .dataframe tbody tr th {\n",
       "        vertical-align: top;\n",
       "    }\n",
       "\n",
       "    .dataframe thead th {\n",
       "        text-align: right;\n",
       "    }\n",
       "</style>\n",
       "<table border=\"1\" class=\"dataframe\">\n",
       "  <thead>\n",
       "    <tr style=\"text-align: right;\">\n",
       "      <th></th>\n",
       "      <th>Filename</th>\n",
       "      <th>Width</th>\n",
       "      <th>Height</th>\n",
       "      <th>Roi.X1</th>\n",
       "      <th>Roi.Y1</th>\n",
       "      <th>Roi.X2</th>\n",
       "      <th>Roi.Y2</th>\n",
       "      <th>ClassId</th>\n",
       "    </tr>\n",
       "    <tr>\n",
       "      <th>Damage</th>\n",
       "      <th></th>\n",
       "      <th></th>\n",
       "      <th></th>\n",
       "      <th></th>\n",
       "      <th></th>\n",
       "      <th></th>\n",
       "      <th></th>\n",
       "      <th></th>\n",
       "    </tr>\n",
       "  </thead>\n",
       "  <tbody>\n",
       "    <tr>\n",
       "      <th>0</th>\n",
       "      <td>28385</td>\n",
       "      <td>28385</td>\n",
       "      <td>28385</td>\n",
       "      <td>28385</td>\n",
       "      <td>28385</td>\n",
       "      <td>28385</td>\n",
       "      <td>28385</td>\n",
       "      <td>28385</td>\n",
       "    </tr>\n",
       "    <tr>\n",
       "      <th>1</th>\n",
       "      <td>2982</td>\n",
       "      <td>2982</td>\n",
       "      <td>2982</td>\n",
       "      <td>2982</td>\n",
       "      <td>2982</td>\n",
       "      <td>2982</td>\n",
       "      <td>2982</td>\n",
       "      <td>2982</td>\n",
       "    </tr>\n",
       "  </tbody>\n",
       "</table>\n",
       "</div>"
      ],
      "text/plain": [
       "        Filename  Width  Height  Roi.X1  Roi.Y1  Roi.X2  Roi.Y2  ClassId\n",
       "Damage                                                                  \n",
       "0          28385  28385   28385   28385   28385   28385   28385    28385\n",
       "1           2982   2982    2982    2982    2982    2982    2982     2982"
      ]
     },
     "execution_count": 3,
     "metadata": {},
     "output_type": "execute_result"
    }
   ],
   "source": [
    "# create trn, val, tst split\n",
    "import math\n",
    "from sklearn.utils import shuffle\n",
    "df_total_shuffled = shuffle(df_total, random_state=42)\n",
    "\n",
    "trn_percentage = 0.8 # use 80 for training\n",
    "val_percentage = 0.9 # use samples 0.8 to 0.9 for validation, rest for testing\n",
    "\n",
    "trn_split = math.floor(len(df_total_shuffled)*trn_percentage)\n",
    "val_split = math.floor(len(df_total_shuffled)*val_percentage)\n",
    "\n",
    "df_trn = df_total_shuffled.iloc[0:trn_split]\n",
    "df_val = df_total_shuffled.iloc[trn_split:val_split]\n",
    "df_tst = df_total_shuffled.iloc[val_split:]\n",
    "\n",
    "# check if sizes are correct\n",
    "print(len(df_trn))\n",
    "print(len(df_val))\n",
    "print(len(df_tst))\n",
    "print(len(df_trn) + len(df_val) + len(df_tst))\n",
    "print(len(df_total_shuffled))\n",
    "\n",
    "df_trn.groupby('Damage').count()\n",
    "#df_val.groupby('Damage').count()\n",
    "#df_tst.groupby('Damage').count()"
   ]
  },
  {
   "cell_type": "code",
   "execution_count": 4,
   "metadata": {},
   "outputs": [
    {
     "name": "stdout",
     "output_type": "stream",
     "text": [
      "Found 31367 images belonging to 2 classes.\n"
     ]
    },
    {
     "data": {
      "text/plain": [
       "(31367, 64, 64, 1)"
      ]
     },
     "execution_count": 4,
     "metadata": {},
     "output_type": "execute_result"
    }
   ],
   "source": [
    "from keras_preprocessing.image import ImageDataGenerator\n",
    "\n",
    "im_w = 64\n",
    "im_h = 64\n",
    "im_c = 1\n",
    "bs = 128\n",
    "\n",
    "datagen_temp = ImageDataGenerator()\n",
    "gen_temp=datagen_temp.flow_from_dataframe(dataframe=df_trn, directory=\".\", x_col=\"Filename\", y_col=\"Damage\", class_mode=\"categorical\", target_size=(im_w,im_h), batch_size=bs, color_mode='grayscale')\n",
    "\n",
    "step_size_tmp = gen_temp.n//bs\n",
    "import numpy as np\n",
    "X_temp = np.empty((0,im_w,im_h,im_c))\n",
    "for i in range(0, len(gen_temp)):\n",
    "    (X,y) = gen_temp[i]\n",
    "    X_temp = np.concatenate((X_temp,X), axis=0)\n",
    "X_temp.shape"
   ]
  },
  {
   "cell_type": "code",
   "execution_count": 5,
   "metadata": {},
   "outputs": [
    {
     "data": {
      "text/plain": [
       "31360"
      ]
     },
     "execution_count": 5,
     "metadata": {},
     "output_type": "execute_result"
    }
   ],
   "source": [
    "step_size_tmp*128"
   ]
  },
  {
   "cell_type": "code",
   "execution_count": 6,
   "metadata": {},
   "outputs": [
    {
     "name": "stdout",
     "output_type": "stream",
     "text": [
      "Found 31367 images belonging to 2 classes.\n",
      "Found 3921 images belonging to 2 classes.\n",
      "Found 3921 images belonging to 2 classes.\n"
     ]
    }
   ],
   "source": [
    "flow_args = dict(directory=\".\", \n",
    "    x_col=\"Filename\", \n",
    "    y_col=\"Damage\", \n",
    "    class_mode=\"categorical\", \n",
    "    target_size=(im_w,im_h), \n",
    "    batch_size=bs, \n",
    "    color_mode='grayscale')\n",
    "\n",
    "generator_args = dict(featurewise_center=True, featurewise_std_normalization=True)\n",
    "\n",
    "# build the generators\n",
    "datagen_trn=ImageDataGenerator(**generator_args)\n",
    "datagen_trn.fit(X_temp)\n",
    "gen_trn=datagen_trn.flow_from_dataframe(dataframe=df_trn, **flow_args)\n",
    "\n",
    "datagen_val=ImageDataGenerator(**generator_args)\n",
    "datagen_val.fit(X_temp)\n",
    "gen_val=datagen_val.flow_from_dataframe(dataframe=df_val, **flow_args)\n",
    "\n",
    "datagen_tst=ImageDataGenerator(**generator_args)\n",
    "datagen_tst.fit(X_temp)\n",
    "gen_tst=datagen_tst.flow_from_dataframe(dataframe=df_tst, **flow_args)"
   ]
  },
  {
   "cell_type": "code",
   "execution_count": 8,
   "metadata": {},
   "outputs": [
    {
     "data": {
      "text/plain": [
       "(31367, 64, 64, 1)"
      ]
     },
     "execution_count": 8,
     "metadata": {},
     "output_type": "execute_result"
    }
   ],
   "source": [
    "# take a look at images from our generator\n",
    "X_temp = np.empty((0,im_w,im_h,im_c))\n",
    "for i in range(0, len(gen_trn)):\n",
    "    (X,y) = gen_trn[i]\n",
    "    X_temp = np.concatenate((X_temp,X), axis=0)\n",
    "X_temp.shape\n"
   ]
  },
  {
   "cell_type": "code",
   "execution_count": 9,
   "metadata": {},
   "outputs": [
    {
     "data": {
      "image/png": "[encoded data removed]",
      "text/plain": [
       "<matplotlib.figure.Figure at 0x213a88b32b0>"
      ]
     },
     "metadata": {},
     "output_type": "display_data"
    }
   ],
   "source": [
    "import matplotlib.pyplot as plt\n",
    "\n",
    "plt.imshow(X_temp[50,:,:,0])\n",
    "plt.show()\n"
   ]
  },
  {
   "cell_type": "code",
   "execution_count": 10,
   "metadata": {},
   "outputs": [
    {
     "data": {
      "image/png": "[encoded data removed]",
      "text/plain": [
       "<matplotlib.figure.Figure at 0x213aa4e2be0>"
      ]
     },
     "metadata": {},
     "output_type": "display_data"
    }
   ],
   "source": [
    "# its a bit worrying that this image is not completely all ones...\n",
    "plt.imshow(np.std(X_temp[:,:,:,0],axis=0))\n",
    "plt.show()"
   ]
  },
  {
   "cell_type": "markdown",
   "metadata": {},
   "source": [
    "**Model architecture**\n",
    "\n",
    "I use the same architecture as the guys used for classifying sign identity for the german dataset, shown below\n",
    "\n",
    "![Model](model_architecture.png)\n",
    "\n"
   ]
  },
  {
   "cell_type": "code",
   "execution_count": 38,
   "metadata": {},
   "outputs": [
    {
     "name": "stdout",
     "output_type": "stream",
     "text": [
      "_________________________________________________________________\n",
      "Layer (type)                 Output Shape              Param #   \n",
      "=================================================================\n",
      "conv2d_4 (Conv2D)            (None, 64, 64, 32)        832       \n",
      "_________________________________________________________________\n",
      "max_pooling2d_4 (MaxPooling2 (None, 32, 32, 32)        0         \n",
      "_________________________________________________________________\n",
      "conv2d_5 (Conv2D)            (None, 32, 32, 64)        51264     \n",
      "_________________________________________________________________\n",
      "max_pooling2d_5 (MaxPooling2 (None, 8, 8, 64)          0         \n",
      "_________________________________________________________________\n",
      "conv2d_6 (Conv2D)            (None, 8, 8, 128)         204928    \n",
      "_________________________________________________________________\n",
      "max_pooling2d_6 (MaxPooling2 (None, 4, 4, 128)         0         \n",
      "_________________________________________________________________\n",
      "flatten_2 (Flatten)          (None, 2048)              0         \n",
      "_________________________________________________________________\n",
      "dropout_3 (Dropout)          (None, 2048)              0         \n",
      "_________________________________________________________________\n",
      "dense_3 (Dense)              (None, 1024)              2098176   \n",
      "_________________________________________________________________\n",
      "dropout_4 (Dropout)          (None, 1024)              0         \n",
      "_________________________________________________________________\n",
      "dense_4 (Dense)              (None, 2)                 2050      \n",
      "=================================================================\n",
      "Total params: 2,357,250\n",
      "Trainable params: 2,357,250\n",
      "Non-trainable params: 0\n",
      "_________________________________________________________________\n"
     ]
    }
   ],
   "source": [
    "from __future__ import print_function\n",
    "import keras\n",
    "from keras.models import Sequential\n",
    "from keras.layers import Dense, Dropout, Flatten\n",
    "from keras.layers import Conv2D, MaxPooling2D\n",
    "from keras import backend as K\n",
    "\n",
    "# build a simple model\n",
    "model = Sequential()\n",
    "\n",
    "input_shape = (im_w, im_h, im_c)\n",
    "num_classes = 2\n",
    "\n",
    "model.add(Conv2D(32, (5, 5), activation='relu', input_shape=input_shape, padding='same'))\n",
    "model.add(MaxPooling2D(pool_size=(2, 2)))\n",
    "model.add(Conv2D(64, (5, 5), activation='relu', padding='same'))\n",
    "model.add(MaxPooling2D(pool_size=(4, 4)))\n",
    "model.add(Conv2D(128, (5, 5), activation='relu', padding='same'))\n",
    "model.add(MaxPooling2D(pool_size=(2, 2)))\n",
    "model.add(Flatten())\n",
    "model.add(Dropout(0.5))\n",
    "model.add(Dense(1024, activation='relu'))\n",
    "model.add(Dropout(0.5))\n",
    "model.add(Dense(num_classes, activation='softmax'))\n",
    "\n",
    "model.summary()\n"
   ]
  },
  {
   "cell_type": "code",
   "execution_count": 39,
   "metadata": {},
   "outputs": [],
   "source": [
    "# compile model\n",
    "model.compile(loss=keras.losses.categorical_crossentropy,\n",
    "              optimizer=keras.optimizers.Adam(),\n",
    "              metrics=['accuracy'])"
   ]
  },
  {
   "cell_type": "code",
   "execution_count": 40,
   "metadata": {
    "collapsed": true
   },
   "outputs": [],
   "source": [
    "import numpy as np\n",
    "import sklearn.metrics\n",
    "\n",
    "def comp_stats(gen):\n",
    "    \n",
    "    y_total = np.empty((0,2))\n",
    "    for i in range(0, len(gen)):\n",
    "        (X,y) = gen[i]\n",
    "        y_total = np.concatenate((y_total,y), axis=0)\n",
    "    return np.sum(y_total, axis=0)\n",
    "\n",
    "def comp_metrics(gen, model):\n",
    "    y_total = np.empty((0,2))\n",
    "    y_total_pred = np.empty((0,2))\n",
    "    for i in range(0, len(gen)):\n",
    "        (X,y) = gen[i]\n",
    "        y_total = np.concatenate((y_total,y), axis=0)\n",
    "        y_pred = model.predict(X)\n",
    "        y_total_pred = np.concatenate((y_total_pred, y_pred), axis=0)\n",
    "    acc = sklearn.metrics.accuracy_score(y_total, y_total_pred > 0.5)\n",
    "    \n",
    "    class_freq = np.sum(y_total,axis=0)\n",
    "    accuracy_chance = (class_freq[0]+class_freq[1]-class_freq[1])/(class_freq[1]+class_freq[0])\n",
    "    \n",
    "    auc = sklearn.metrics.roc_auc_score(y_total, y_total_pred)\n",
    "    \n",
    "    apr = sklearn.metrics.average_precision_score(y_total, y_total_pred)\n",
    "    \n",
    "    return (acc, accuracy_chance, auc, apr)\n",
    "    "
   ]
  },
  {
   "cell_type": "code",
   "execution_count": 41,
   "metadata": {},
   "outputs": [],
   "source": [
    "from keras.callbacks import Callback\n",
    "\n",
    "class roc_callback(Callback):\n",
    "    def __init__(self,gen_trn,gen_val,use_trn):\n",
    "        self.gen_trn = gen_trn\n",
    "        self.gen_val = gen_val\n",
    "        self.auc_trn = []\n",
    "        self.auc_val = []\n",
    "        self.acc_trn = []\n",
    "        self.acc_val = []\n",
    "        self.apr_trn = []\n",
    "        self.apr_val = []\n",
    "\n",
    "    def on_train_begin(self, logs={}):\n",
    "        return\n",
    "\n",
    "    def on_train_end(self, logs={}):\n",
    "        return\n",
    "\n",
    "    def on_epoch_begin(self, epoch, logs={}):\n",
    "        return\n",
    "\n",
    "    def on_epoch_end(self, epoch, logs={}):\n",
    "        \n",
    "        (acc_val_tmp, acc_chance, auc_val_tmp, apr_val_tmp) = comp_metrics(self.gen_val, self.model)\n",
    "        \n",
    "        self.acc_val.append(acc_val_tmp)\n",
    "        self.auc_val.append(auc_val_tmp)\n",
    "        self.apr_val.append(apr_val_tmp)\n",
    "        \n",
    "        if (use_trn):\n",
    "            (acc_trn_tmp, acc_chance, auc_trn_tmp, apr_trn_tmp) = comp_metrics(self.gen_trn, self.model)\n",
    "\n",
    "            self.acc_trn.append(acc_trn_tmp)\n",
    "            self.auc_trn.append(auc_trn_tmp)\n",
    "            self.apr_trn.append(apr_trn_tmp)\n",
    "\n",
    "            print('\\rtrn-auc: %s - val-auc: %s' % (str(round(auc_trn_tmp,4)),str(round(auc_val_tmp,4))),end=100*' '+'\\n')\n",
    "        else:\n",
    "            print('\\rval-acc: %s - val-auc: %s' % (str(round(acc_val_tmp,4)),str(round(auc_val_tmp,4))),end=100*' '+'\\n')\n",
    "        return\n",
    "\n",
    "    def on_batch_begin(self, batch, logs={}):\n",
    "        return\n",
    "\n",
    "    def on_batch_end(self, batch, logs={}):\n",
    "        return"
   ]
  },
  {
   "cell_type": "code",
   "execution_count": 42,
   "metadata": {},
   "outputs": [],
   "source": [
    "# train the model\n",
    "\n",
    "my_auc_callback = roc_callback(gen_trn,gen_val,use_trn=False) # if we set use_trn to false, the computation time is much faster\n",
    "#my_auc_callback.model = model\n",
    "#my_auc_callback.on_epoch_end(epoch=[])"
   ]
  },
  {
   "cell_type": "code",
   "execution_count": 43,
   "metadata": {
    "scrolled": false
   },
   "outputs": [
    {
     "name": "stdout",
     "output_type": "stream",
     "text": [
      "Epoch 1/50\n",
      " - 23s - loss: 1.0807 - acc: 0.6794\n",
      "val-acc: 0.6274 - val-auc: 0.7485                                                                                                    \n",
      "Epoch 2/50\n",
      " - 23s - loss: 0.9073 - acc: 0.7686\n",
      "val-acc: 0.7766 - val-auc: 0.8604                                                                                                    \n",
      "Epoch 3/50\n",
      " - 23s - loss: 0.7185 - acc: 0.8247\n",
      "val-acc: 0.8426 - val-auc: 0.91                                                                                                    \n",
      "Epoch 4/50\n",
      " - 22s - loss: 0.6465 - acc: 0.8438\n",
      "val-acc: 0.9072 - val-auc: 0.9473                                                                                                    \n",
      "Epoch 5/50\n",
      " - 23s - loss: 0.4882 - acc: 0.8819\n",
      "val-acc: 0.9332 - val-auc: 0.9607                                                                                                    \n",
      "Epoch 6/50\n",
      " - 23s - loss: 0.3933 - acc: 0.9061\n",
      "val-acc: 0.9128 - val-auc: 0.9679                                                                                                    \n",
      "Epoch 7/50\n",
      " - 22s - loss: 0.3280 - acc: 0.9224\n",
      "val-acc: 0.9592 - val-auc: 0.9755                                                                                                    \n",
      "Epoch 8/50\n",
      " - 22s - loss: 0.2787 - acc: 0.9321\n",
      "val-acc: 0.9589 - val-auc: 0.9797                                                                                                    \n",
      "Epoch 9/50\n",
      " - 21s - loss: 0.2511 - acc: 0.9426\n",
      "val-acc: 0.9543 - val-auc: 0.9865                                                                                                    \n",
      "Epoch 10/50\n",
      " - 21s - loss: 0.2144 - acc: 0.9495\n",
      "val-acc: 0.9658 - val-auc: 0.9791                                                                                                    \n",
      "Epoch 11/50\n",
      " - 22s - loss: 0.1837 - acc: 0.9597\n",
      "val-acc: 0.9725 - val-auc: 0.9851                                                                                                    \n",
      "Epoch 12/50\n",
      " - 23s - loss: 0.1774 - acc: 0.9609\n",
      "val-acc: 0.9702 - val-auc: 0.9838                                                                                                    \n",
      "Epoch 13/50\n",
      " - 22s - loss: 0.1506 - acc: 0.9681\n",
      "val-acc: 0.9714 - val-auc: 0.9861                                                                                                    \n",
      "Epoch 14/50\n",
      " - 22s - loss: 0.1438 - acc: 0.9683\n",
      "val-acc: 0.974 - val-auc: 0.9855                                                                                                    \n",
      "Epoch 15/50\n",
      " - 22s - loss: 0.1351 - acc: 0.9712\n",
      "val-acc: 0.9666 - val-auc: 0.987                                                                                                    \n",
      "Epoch 16/50\n",
      " - 22s - loss: 0.1407 - acc: 0.9699\n",
      "val-acc: 0.9783 - val-auc: 0.9924                                                                                                    \n",
      "Epoch 17/50\n",
      " - 22s - loss: 0.1217 - acc: 0.9741\n",
      "val-acc: 0.9694 - val-auc: 0.9904                                                                                                    \n",
      "Epoch 18/50\n",
      " - 23s - loss: 0.1081 - acc: 0.9776\n",
      "val-acc: 0.9824 - val-auc: 0.9887                                                                                                    \n",
      "Epoch 19/50\n",
      " - 22s - loss: 0.1104 - acc: 0.9770\n",
      "val-acc: 0.9811 - val-auc: 0.9877                                                                                                    \n",
      "Epoch 20/50\n",
      " - 22s - loss: 0.0980 - acc: 0.9786\n",
      "val-acc: 0.9821 - val-auc: 0.9901                                                                                                    \n",
      "Epoch 21/50\n",
      " - 23s - loss: 0.0814 - acc: 0.9830\n",
      "val-acc: 0.9806 - val-auc: 0.9891                                                                                                    \n",
      "Epoch 22/50\n",
      " - 22s - loss: 0.0897 - acc: 0.9813\n",
      "val-acc: 0.9773 - val-auc: 0.9878                                                                                                    \n",
      "Epoch 23/50\n",
      " - 22s - loss: 0.0921 - acc: 0.9813\n",
      "val-acc: 0.9793 - val-auc: 0.9899                                                                                                    \n",
      "Epoch 24/50\n",
      " - 22s - loss: 0.0969 - acc: 0.9812\n",
      "val-acc: 0.9837 - val-auc: 0.991                                                                                                    \n",
      "Epoch 25/50\n",
      " - 22s - loss: 0.0780 - acc: 0.9843\n",
      "val-acc: 0.9814 - val-auc: 0.992                                                                                                    \n",
      "Epoch 26/50\n",
      " - 22s - loss: 0.0759 - acc: 0.9840\n",
      "val-acc: 0.9837 - val-auc: 0.9906                                                                                                    \n",
      "Epoch 27/50\n",
      " - 22s - loss: 0.0837 - acc: 0.9823\n",
      "val-acc: 0.9832 - val-auc: 0.9906                                                                                                    \n",
      "Epoch 28/50\n",
      " - 22s - loss: 0.1038 - acc: 0.9794\n",
      "val-acc: 0.9819 - val-auc: 0.9903                                                                                                    \n",
      "Epoch 29/50\n",
      " - 22s - loss: 0.0771 - acc: 0.9844\n",
      "val-acc: 0.9827 - val-auc: 0.9932                                                                                                    \n",
      "Epoch 30/50\n",
      " - 23s - loss: 0.0523 - acc: 0.9893\n",
      "val-acc: 0.9827 - val-auc: 0.991                                                                                                    \n",
      "Epoch 31/50\n",
      " - 22s - loss: 0.0639 - acc: 0.9875\n",
      "val-acc: 0.9832 - val-auc: 0.9917                                                                                                    \n",
      "Epoch 32/50\n",
      " - 22s - loss: 0.0895 - acc: 0.9828\n",
      "val-acc: 0.9829 - val-auc: 0.9826                                                                                                    \n",
      "Epoch 33/50\n",
      " - 22s - loss: 0.0890 - acc: 0.9826\n",
      "val-acc: 0.9857 - val-auc: 0.9916                                                                                                    \n",
      "Epoch 34/50\n",
      " - 22s - loss: 0.0600 - acc: 0.9881\n",
      "val-acc: 0.9839 - val-auc: 0.9919                                                                                                    \n",
      "Epoch 35/50\n",
      " - 24s - loss: 0.0584 - acc: 0.9888\n",
      "val-acc: 0.9842 - val-auc: 0.9938                                                                                                    \n",
      "Epoch 36/50\n",
      " - 25s - loss: 0.0803 - acc: 0.9841\n",
      "val-acc: 0.9837 - val-auc: 0.9908                                                                                                    \n",
      "Epoch 37/50\n",
      " - 23s - loss: 0.0748 - acc: 0.9866\n",
      "val-acc: 0.9834 - val-auc: 0.9924                                                                                                    \n",
      "Epoch 38/50\n",
      " - 22s - loss: 0.0680 - acc: 0.9868\n",
      "val-acc: 0.9829 - val-auc: 0.9899                                                                                                    \n",
      "Epoch 39/50\n",
      " - 22s - loss: 0.0569 - acc: 0.9898\n",
      "val-acc: 0.9857 - val-auc: 0.9932                                                                                                    \n",
      "Epoch 40/50\n",
      " - 23s - loss: 0.0548 - acc: 0.9893\n",
      "val-acc: 0.9842 - val-auc: 0.9922                                                                                                    \n",
      "Epoch 41/50\n",
      " - 22s - loss: 0.0634 - acc: 0.9891\n",
      "val-acc: 0.9834 - val-auc: 0.9912                                                                                                    \n",
      "Epoch 42/50\n",
      " - 23s - loss: 0.0777 - acc: 0.9859\n",
      "val-acc: 0.9844 - val-auc: 0.9888                                                                                                    \n",
      "Epoch 43/50\n",
      " - 22s - loss: 0.0763 - acc: 0.9854\n",
      "val-acc: 0.9837 - val-auc: 0.9906                                                                                                    \n",
      "Epoch 44/50\n",
      " - 23s - loss: 0.0576 - acc: 0.9892\n",
      "val-acc: 0.9842 - val-auc: 0.9885                                                                                                    \n",
      "Epoch 45/50\n",
      " - 22s - loss: 0.0738 - acc: 0.9855\n",
      "val-acc: 0.9832 - val-auc: 0.9888                                                                                                    \n",
      "Epoch 46/50\n",
      " - 22s - loss: 0.0772 - acc: 0.9879\n"
     ]
    },
    {
     "name": "stdout",
     "output_type": "stream",
     "text": [
      "val-acc: 0.9829 - val-auc: 0.9901                                                                                                    \n",
      "Epoch 47/50\n",
      " - 22s - loss: 0.0547 - acc: 0.9892\n",
      "val-acc: 0.9821 - val-auc: 0.9883                                                                                                    \n",
      "Epoch 48/50\n",
      " - 22s - loss: 0.0592 - acc: 0.9889\n",
      "val-acc: 0.985 - val-auc: 0.9874                                                                                                    \n",
      "Epoch 49/50\n",
      " - 23s - loss: 0.0638 - acc: 0.9875\n",
      "val-acc: 0.9819 - val-auc: 0.991                                                                                                    \n",
      "Epoch 50/50\n",
      " - 22s - loss: 0.0884 - acc: 0.9838\n",
      "val-acc: 0.9855 - val-auc: 0.9941                                                                                                    \n",
      "Training complete!\n"
     ]
    }
   ],
   "source": [
    "history = model.fit_generator(gen_trn, # input data\n",
    "    steps_per_epoch=len(gen_trn),\n",
    "    epochs=50,      \n",
    "    verbose=2,\n",
    "    class_weight={0:1, 1:8},\n",
    "    use_multiprocessing=False,\n",
    "    callbacks=[my_auc_callback])    \n",
    "\n",
    "print('Training complete!')"
   ]
  },
  {
   "cell_type": "code",
   "execution_count": 44,
   "metadata": {},
   "outputs": [
    {
     "data": {
      "image/png": "[encoded data removed]",
      "text/plain": [
       "<matplotlib.figure.Figure at 0x213b1cf5e80>"
      ]
     },
     "metadata": {},
     "output_type": "display_data"
    },
    {
     "data": {
      "image/png": "[encoded data removed]",
      "text/plain": [
       "<matplotlib.figure.Figure at 0x213b1c254a8>"
      ]
     },
     "metadata": {},
     "output_type": "display_data"
    },
    {
     "data": {
      "image/png": "[encoded data removed]",
      "text/plain": [
       "<matplotlib.figure.Figure at 0x213b20b4550>"
      ]
     },
     "metadata": {},
     "output_type": "display_data"
    },
    {
     "data": {
      "image/png": "[encoded data removed]",
      "text/plain": [
       "<matplotlib.figure.Figure at 0x213b20d49e8>"
      ]
     },
     "metadata": {},
     "output_type": "display_data"
    }
   ],
   "source": [
    "import matplotlib.pyplot as plt\n",
    "\n",
    "# Plot training & validation accuracy values\n",
    "plt.plot(history.history['acc'])\n",
    "plt.plot(my_auc_callback.acc_val)\n",
    "plt.title('Model accuracy')\n",
    "plt.ylabel('Accuracy')\n",
    "plt.xlabel('Epoch')\n",
    "plt.legend(['Train', 'Val'], loc='upper left')\n",
    "plt.show()\n",
    "\n",
    "# Plot training & validation loss values\n",
    "plt.plot(history.history['loss'])\n",
    "#plt.plot(history.history['val_loss'])\n",
    "plt.title('Model loss')\n",
    "plt.ylabel('Loss')\n",
    "plt.xlabel('Epoch')\n",
    "plt.legend(['Train', 'Val'], loc='upper left')\n",
    "plt.show()\n",
    "\n",
    "# Plot training & validation AUC values\n",
    "plt.plot(my_auc_callback.auc_trn)\n",
    "plt.plot(my_auc_callback.auc_val)\n",
    "plt.title('Model AUC ROC')\n",
    "plt.ylabel('AUC ROC')\n",
    "plt.xlabel('Epoch')\n",
    "plt.legend(['Train', 'Val'], loc='upper left')\n",
    "plt.show()\n",
    "\n",
    "# Plot training & validation APR values\n",
    "plt.plot(my_auc_callback.apr_trn)\n",
    "plt.plot(my_auc_callback.apr_val)\n",
    "plt.title('Model APR')\n",
    "plt.ylabel('Average precision')\n",
    "plt.xlabel('Epoch')\n",
    "plt.legend(['Train', 'Val'], loc='upper left')\n",
    "plt.show()"
   ]
  },
  {
   "cell_type": "code",
   "execution_count": 45,
   "metadata": {},
   "outputs": [
    {
     "name": "stdout",
     "output_type": "stream",
     "text": [
      "(0.9846977811782709, 0.9000255036980362, 0.9929922840487853, 0.9835696069977411)\n",
      "[3529.  392.]\n"
     ]
    }
   ],
   "source": [
    "print(comp_metrics(gen_tst, model))\n",
    "print(comp_stats(gen_tst))"
   ]
  },
  {
   "cell_type": "code",
   "execution_count": 46,
   "metadata": {
    "collapsed": true
   },
   "outputs": [],
   "source": [
    "model.save('trained_german.h5')"
   ]
  },
  {
   "cell_type": "code",
   "execution_count": null,
   "metadata": {
    "collapsed": true
   },
   "outputs": [],
   "source": []
  }
 ],
 "metadata": {
  "anaconda-cloud": {},
  "kernelspec": {
   "display_name": "Python 3",
   "language": "python",
   "name": "python3"
  },
  "language_info": {
   "codemirror_mode": {
    "name": "ipython",
    "version": 3
   },
   "file_extension": ".py",
   "mimetype": "text/x-python",
   "name": "python",
   "nbconvert_exporter": "python",
   "pygments_lexer": "ipython3",
   "version": "3.5.2"
  }
 },
 "nbformat": 4,
 "nbformat_minor": 1
}
