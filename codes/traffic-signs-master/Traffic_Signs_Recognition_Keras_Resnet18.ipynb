{
 "cells": [
  {
   "cell_type": "markdown",
   "metadata": {},
   "source": [
    "# German Traffic Sign Classification\n",
    "\n",
    "---"
   ]
  },
  {
   "cell_type": "code",
   "execution_count": 1,
   "metadata": {
    "scrolled": true
   },
   "outputs": [
    {
     "name": "stdout",
     "output_type": "stream",
     "text": [
      "<class 'pandas.core.frame.DataFrame'>\n",
      "Int64Index: 39209 entries, 0 to 239\n",
      "Data columns (total 9 columns):\n",
      "Filename    39209 non-null object\n",
      "Width       39209 non-null int64\n",
      "Height      39209 non-null int64\n",
      "Roi.X1      39209 non-null int64\n",
      "Roi.Y1      39209 non-null int64\n",
      "Roi.X2      39209 non-null int64\n",
      "Roi.Y2      39209 non-null int64\n",
      "ClassId     39209 non-null int64\n",
      "Damage      39209 non-null int64\n",
      "dtypes: int64(8), object(1)\n",
      "memory usage: 3.0+ MB\n"
     ]
    }
   ],
   "source": [
    "import pandas as pd\n",
    "\n",
    "df_total = pd.DataFrame()\n",
    "for i in range(0,43):\n",
    "    csv_file = '..\\..\\datasets\\GTSRB_data\\Final_Training\\Images\\%05d\\GT-%05d.csv' % (i, i)\n",
    "    the_path = '..\\..\\datasets\\GTSRB_data\\Final_Training\\Images\\%05d\\\\' % (i) \n",
    "    df=pd.read_csv(csv_file)\n",
    "    df['Filename'] = the_path + df['Filename'] # prepend path to filename\n",
    "    df_total = df_total.append(df) # append all dataframes to df_total\n",
    "    \n",
    "df_total.info() # display some information\n",
    "#df_total['Filename'].head() # look at a few rows"
   ]
  },
  {
   "cell_type": "code",
   "execution_count": 2,
   "metadata": {
    "collapsed": true
   },
   "outputs": [],
   "source": [
    "df_total = df_total.astype({\"Damage\": str}) # convert damage column to string\n",
    "#df_total.info()"
   ]
  },
  {
   "cell_type": "code",
   "execution_count": 3,
   "metadata": {},
   "outputs": [
    {
     "name": "stdout",
     "output_type": "stream",
     "text": [
      "31367\n",
      "3921\n",
      "3921\n",
      "39209\n",
      "39209\n"
     ]
    },
    {
     "data": {
      "text/html": [
       "<div>\n",
       "<style scoped>\n",
       "    .dataframe tbody tr th:only-of-type {\n",
       "        vertical-align: middle;\n",
       "    }\n",
       "\n",
       "    .dataframe tbody tr th {\n",
       "        vertical-align: top;\n",
       "    }\n",
       "\n",
       "    .dataframe thead th {\n",
       "        text-align: right;\n",
       "    }\n",
       "</style>\n",
       "<table border=\"1\" class=\"dataframe\">\n",
       "  <thead>\n",
       "    <tr style=\"text-align: right;\">\n",
       "      <th></th>\n",
       "      <th>Filename</th>\n",
       "      <th>Width</th>\n",
       "      <th>Height</th>\n",
       "      <th>Roi.X1</th>\n",
       "      <th>Roi.Y1</th>\n",
       "      <th>Roi.X2</th>\n",
       "      <th>Roi.Y2</th>\n",
       "      <th>ClassId</th>\n",
       "    </tr>\n",
       "    <tr>\n",
       "      <th>Damage</th>\n",
       "      <th></th>\n",
       "      <th></th>\n",
       "      <th></th>\n",
       "      <th></th>\n",
       "      <th></th>\n",
       "      <th></th>\n",
       "      <th></th>\n",
       "      <th></th>\n",
       "    </tr>\n",
       "  </thead>\n",
       "  <tbody>\n",
       "    <tr>\n",
       "      <th>0</th>\n",
       "      <td>28385</td>\n",
       "      <td>28385</td>\n",
       "      <td>28385</td>\n",
       "      <td>28385</td>\n",
       "      <td>28385</td>\n",
       "      <td>28385</td>\n",
       "      <td>28385</td>\n",
       "      <td>28385</td>\n",
       "    </tr>\n",
       "    <tr>\n",
       "      <th>1</th>\n",
       "      <td>2982</td>\n",
       "      <td>2982</td>\n",
       "      <td>2982</td>\n",
       "      <td>2982</td>\n",
       "      <td>2982</td>\n",
       "      <td>2982</td>\n",
       "      <td>2982</td>\n",
       "      <td>2982</td>\n",
       "    </tr>\n",
       "  </tbody>\n",
       "</table>\n",
       "</div>"
      ],
      "text/plain": [
       "        Filename  Width  Height  Roi.X1  Roi.Y1  Roi.X2  Roi.Y2  ClassId\n",
       "Damage                                                                  \n",
       "0          28385  28385   28385   28385   28385   28385   28385    28385\n",
       "1           2982   2982    2982    2982    2982    2982    2982     2982"
      ]
     },
     "execution_count": 3,
     "metadata": {},
     "output_type": "execute_result"
    }
   ],
   "source": [
    "# create trn, val, tst split\n",
    "import math\n",
    "from sklearn.utils import shuffle\n",
    "df_total_shuffled = shuffle(df_total, random_state=42)\n",
    "\n",
    "trn_percentage = 0.8 # use 80 for training\n",
    "val_percentage = 0.9 # use samples 0.8 to 0.9 for validation, rest for testing\n",
    "\n",
    "trn_split = math.floor(len(df_total_shuffled)*trn_percentage)\n",
    "val_split = math.floor(len(df_total_shuffled)*val_percentage)\n",
    "\n",
    "df_trn = df_total_shuffled.iloc[0:trn_split]\n",
    "df_val = df_total_shuffled.iloc[trn_split:val_split]\n",
    "df_tst = df_total_shuffled.iloc[val_split:]\n",
    "\n",
    "# check if sizes are correct\n",
    "print(len(df_trn))\n",
    "print(len(df_val))\n",
    "print(len(df_tst))\n",
    "print(len(df_trn) + len(df_val) + len(df_tst))\n",
    "print(len(df_total_shuffled))\n",
    "\n",
    "df_trn.groupby('Damage').count()\n",
    "#df_val.groupby('Damage').count()\n",
    "#df_tst.groupby('Damage').count()"
   ]
  },
  {
   "cell_type": "code",
   "execution_count": 4,
   "metadata": {},
   "outputs": [
    {
     "name": "stdout",
     "output_type": "stream",
     "text": [
      "Found 31367 images belonging to 2 classes.\n"
     ]
    },
    {
     "data": {
      "text/plain": [
       "(31367, 64, 64, 1)"
      ]
     },
     "execution_count": 4,
     "metadata": {},
     "output_type": "execute_result"
    }
   ],
   "source": [
    "from keras_preprocessing.image import ImageDataGenerator\n",
    "\n",
    "im_w = 64\n",
    "im_h = 64\n",
    "im_c = 1\n",
    "bs = 128\n",
    "\n",
    "datagen_temp = ImageDataGenerator()\n",
    "gen_temp=datagen_temp.flow_from_dataframe(dataframe=df_trn, directory=\".\", x_col=\"Filename\", y_col=\"Damage\", class_mode=\"categorical\", target_size=(im_w,im_h), batch_size=bs, color_mode='grayscale')\n",
    "\n",
    "import numpy as np\n",
    "X_temp = np.empty((0,im_w,im_h,im_c))\n",
    "for i in range(0, len(gen_temp)):\n",
    "    (X,y) = gen_temp[i]\n",
    "    X_temp = np.concatenate((X_temp,X), axis=0)\n",
    "X_temp.shape"
   ]
  },
  {
   "cell_type": "code",
   "execution_count": 5,
   "metadata": {},
   "outputs": [
    {
     "name": "stdout",
     "output_type": "stream",
     "text": [
      "Found 31367 images belonging to 2 classes.\n",
      "Found 3921 images belonging to 2 classes.\n",
      "Found 3921 images belonging to 2 classes.\n"
     ]
    }
   ],
   "source": [
    "flow_args = dict(directory=\".\", \n",
    "    x_col=\"Filename\", \n",
    "    y_col=\"Damage\", \n",
    "    class_mode=\"categorical\", \n",
    "    target_size=(im_w,im_h), \n",
    "    batch_size=bs, \n",
    "    color_mode='grayscale')\n",
    "\n",
    "generator_args = dict(featurewise_center=True, featurewise_std_normalization=True)\n",
    "\n",
    "# build the generators\n",
    "datagen_trn=ImageDataGenerator(**generator_args)\n",
    "datagen_trn.fit(X_temp)\n",
    "gen_trn=datagen_trn.flow_from_dataframe(dataframe=df_trn, **flow_args)\n",
    "\n",
    "datagen_val=ImageDataGenerator(**generator_args)\n",
    "datagen_val.fit(X_temp)\n",
    "gen_val=datagen_val.flow_from_dataframe(dataframe=df_val, **flow_args)\n",
    "\n",
    "datagen_tst=ImageDataGenerator(**generator_args)\n",
    "datagen_tst.fit(X_temp)\n",
    "gen_tst=datagen_tst.flow_from_dataframe(dataframe=df_tst, **flow_args)"
   ]
  },
  {
   "cell_type": "code",
   "execution_count": 6,
   "metadata": {},
   "outputs": [
    {
     "data": {
      "text/plain": [
       "(31367, 64, 64, 1)"
      ]
     },
     "execution_count": 6,
     "metadata": {},
     "output_type": "execute_result"
    }
   ],
   "source": [
    "# take a look at images from our generator\n",
    "X_temp = np.empty((0,im_w,im_h,im_c))\n",
    "for i in range(0, len(gen_trn)):\n",
    "    (X,y) = gen_trn[i]\n",
    "    X_temp = np.concatenate((X_temp,X), axis=0)\n",
    "X_temp.shape\n"
   ]
  },
  {
   "cell_type": "code",
   "execution_count": 7,
   "metadata": {},
   "outputs": [
    {
     "data": {
      "image/png": "[encoded data removed]",
      "text/plain": [
       "<matplotlib.figure.Figure at 0x1bb3fb88d68>"
      ]
     },
     "metadata": {},
     "output_type": "display_data"
    }
   ],
   "source": [
    "import matplotlib.pyplot as plt\n",
    "\n",
    "plt.imshow(X_temp[50,:,:,0])\n",
    "plt.show()\n"
   ]
  },
  {
   "cell_type": "code",
   "execution_count": 8,
   "metadata": {},
   "outputs": [
    {
     "data": {
      "image/png": "[encoded data removed]",
      "text/plain": [
       "<matplotlib.figure.Figure at 0x1bb2de9c080>"
      ]
     },
     "metadata": {},
     "output_type": "display_data"
    }
   ],
   "source": [
    "# its a bit worrying that this image is not completely all ones...\n",
    "plt.imshow(np.std(X_temp[:,:,:,0],axis=0))\n",
    "plt.show()"
   ]
  },
  {
   "cell_type": "markdown",
   "metadata": {},
   "source": [
    "**Model architecture**\n",
    "\n",
    "I use the same architecture as the guys used for classifying sign identity for the german dataset, shown below\n",
    "\n",
    "![Model](model_architecture.png)\n",
    "\n"
   ]
  },
  {
   "cell_type": "code",
   "execution_count": 10,
   "metadata": {},
   "outputs": [
    {
     "name": "stdout",
     "output_type": "stream",
     "text": [
      "__________________________________________________________________________________________________\n",
      "Layer (type)                    Output Shape         Param #     Connected to                     \n",
      "==================================================================================================\n",
      "input_1 (InputLayer)            (None, 64, 64, 1)    0                                            \n",
      "__________________________________________________________________________________________________\n",
      "conv2d_1 (Conv2D)               (None, 32, 32, 64)   3200        input_1[0][0]                    \n",
      "__________________________________________________________________________________________________\n",
      "batch_normalization_1 (BatchNor (None, 32, 32, 64)   256         conv2d_1[0][0]                   \n",
      "__________________________________________________________________________________________________\n",
      "activation_1 (Activation)       (None, 32, 32, 64)   0           batch_normalization_1[0][0]      \n",
      "__________________________________________________________________________________________________\n",
      "max_pooling2d_1 (MaxPooling2D)  (None, 16, 16, 64)   0           activation_1[0][0]               \n",
      "__________________________________________________________________________________________________\n",
      "conv2d_2 (Conv2D)               (None, 16, 16, 64)   36928       max_pooling2d_1[0][0]            \n",
      "__________________________________________________________________________________________________\n",
      "batch_normalization_2 (BatchNor (None, 16, 16, 64)   256         conv2d_2[0][0]                   \n",
      "__________________________________________________________________________________________________\n",
      "activation_2 (Activation)       (None, 16, 16, 64)   0           batch_normalization_2[0][0]      \n",
      "__________________________________________________________________________________________________\n",
      "conv2d_3 (Conv2D)               (None, 16, 16, 64)   36928       activation_2[0][0]               \n",
      "__________________________________________________________________________________________________\n",
      "add_1 (Add)                     (None, 16, 16, 64)   0           max_pooling2d_1[0][0]            \n",
      "                                                                 conv2d_3[0][0]                   \n",
      "__________________________________________________________________________________________________\n",
      "batch_normalization_3 (BatchNor (None, 16, 16, 64)   256         add_1[0][0]                      \n",
      "__________________________________________________________________________________________________\n",
      "activation_3 (Activation)       (None, 16, 16, 64)   0           batch_normalization_3[0][0]      \n",
      "__________________________________________________________________________________________________\n",
      "conv2d_4 (Conv2D)               (None, 16, 16, 64)   36928       activation_3[0][0]               \n",
      "__________________________________________________________________________________________________\n",
      "batch_normalization_4 (BatchNor (None, 16, 16, 64)   256         conv2d_4[0][0]                   \n",
      "__________________________________________________________________________________________________\n",
      "activation_4 (Activation)       (None, 16, 16, 64)   0           batch_normalization_4[0][0]      \n",
      "__________________________________________________________________________________________________\n",
      "conv2d_5 (Conv2D)               (None, 16, 16, 64)   36928       activation_4[0][0]               \n",
      "__________________________________________________________________________________________________\n",
      "add_2 (Add)                     (None, 16, 16, 64)   0           add_1[0][0]                      \n",
      "                                                                 conv2d_5[0][0]                   \n",
      "__________________________________________________________________________________________________\n",
      "batch_normalization_5 (BatchNor (None, 16, 16, 64)   256         add_2[0][0]                      \n",
      "__________________________________________________________________________________________________\n",
      "activation_5 (Activation)       (None, 16, 16, 64)   0           batch_normalization_5[0][0]      \n",
      "__________________________________________________________________________________________________\n",
      "conv2d_6 (Conv2D)               (None, 8, 8, 128)    73856       activation_5[0][0]               \n",
      "__________________________________________________________________________________________________\n",
      "batch_normalization_6 (BatchNor (None, 8, 8, 128)    512         conv2d_6[0][0]                   \n",
      "__________________________________________________________________________________________________\n",
      "activation_6 (Activation)       (None, 8, 8, 128)    0           batch_normalization_6[0][0]      \n",
      "__________________________________________________________________________________________________\n",
      "conv2d_8 (Conv2D)               (None, 8, 8, 128)    8320        add_2[0][0]                      \n",
      "__________________________________________________________________________________________________\n",
      "conv2d_7 (Conv2D)               (None, 8, 8, 128)    147584      activation_6[0][0]               \n",
      "__________________________________________________________________________________________________\n",
      "add_3 (Add)                     (None, 8, 8, 128)    0           conv2d_8[0][0]                   \n",
      "                                                                 conv2d_7[0][0]                   \n",
      "__________________________________________________________________________________________________\n",
      "batch_normalization_7 (BatchNor (None, 8, 8, 128)    512         add_3[0][0]                      \n",
      "__________________________________________________________________________________________________\n",
      "activation_7 (Activation)       (None, 8, 8, 128)    0           batch_normalization_7[0][0]      \n",
      "__________________________________________________________________________________________________\n",
      "conv2d_9 (Conv2D)               (None, 8, 8, 128)    147584      activation_7[0][0]               \n",
      "__________________________________________________________________________________________________\n",
      "batch_normalization_8 (BatchNor (None, 8, 8, 128)    512         conv2d_9[0][0]                   \n",
      "__________________________________________________________________________________________________\n",
      "activation_8 (Activation)       (None, 8, 8, 128)    0           batch_normalization_8[0][0]      \n",
      "__________________________________________________________________________________________________\n",
      "conv2d_10 (Conv2D)              (None, 8, 8, 128)    147584      activation_8[0][0]               \n",
      "__________________________________________________________________________________________________\n",
      "add_4 (Add)                     (None, 8, 8, 128)    0           add_3[0][0]                      \n",
      "                                                                 conv2d_10[0][0]                  \n",
      "__________________________________________________________________________________________________\n",
      "batch_normalization_9 (BatchNor (None, 8, 8, 128)    512         add_4[0][0]                      \n",
      "__________________________________________________________________________________________________\n",
      "activation_9 (Activation)       (None, 8, 8, 128)    0           batch_normalization_9[0][0]      \n",
      "__________________________________________________________________________________________________\n",
      "conv2d_11 (Conv2D)              (None, 4, 4, 256)    295168      activation_9[0][0]               \n",
      "__________________________________________________________________________________________________\n",
      "batch_normalization_10 (BatchNo (None, 4, 4, 256)    1024        conv2d_11[0][0]                  \n",
      "__________________________________________________________________________________________________\n",
      "activation_10 (Activation)      (None, 4, 4, 256)    0           batch_normalization_10[0][0]     \n",
      "__________________________________________________________________________________________________\n",
      "conv2d_13 (Conv2D)              (None, 4, 4, 256)    33024       add_4[0][0]                      \n",
      "__________________________________________________________________________________________________\n",
      "conv2d_12 (Conv2D)              (None, 4, 4, 256)    590080      activation_10[0][0]              \n",
      "__________________________________________________________________________________________________\n",
      "add_5 (Add)                     (None, 4, 4, 256)    0           conv2d_13[0][0]                  \n",
      "                                                                 conv2d_12[0][0]                  \n",
      "__________________________________________________________________________________________________\n",
      "batch_normalization_11 (BatchNo (None, 4, 4, 256)    1024        add_5[0][0]                      \n",
      "__________________________________________________________________________________________________\n",
      "activation_11 (Activation)      (None, 4, 4, 256)    0           batch_normalization_11[0][0]     \n",
      "__________________________________________________________________________________________________\n",
      "conv2d_14 (Conv2D)              (None, 4, 4, 256)    590080      activation_11[0][0]              \n",
      "__________________________________________________________________________________________________\n",
      "batch_normalization_12 (BatchNo (None, 4, 4, 256)    1024        conv2d_14[0][0]                  \n",
      "__________________________________________________________________________________________________\n",
      "activation_12 (Activation)      (None, 4, 4, 256)    0           batch_normalization_12[0][0]     \n",
      "__________________________________________________________________________________________________\n",
      "conv2d_15 (Conv2D)              (None, 4, 4, 256)    590080      activation_12[0][0]              \n",
      "__________________________________________________________________________________________________\n",
      "add_6 (Add)                     (None, 4, 4, 256)    0           add_5[0][0]                      \n",
      "                                                                 conv2d_15[0][0]                  \n",
      "__________________________________________________________________________________________________\n",
      "batch_normalization_13 (BatchNo (None, 4, 4, 256)    1024        add_6[0][0]                      \n",
      "__________________________________________________________________________________________________\n",
      "activation_13 (Activation)      (None, 4, 4, 256)    0           batch_normalization_13[0][0]     \n",
      "__________________________________________________________________________________________________\n",
      "conv2d_16 (Conv2D)              (None, 2, 2, 512)    1180160     activation_13[0][0]              \n",
      "__________________________________________________________________________________________________\n",
      "batch_normalization_14 (BatchNo (None, 2, 2, 512)    2048        conv2d_16[0][0]                  \n",
      "__________________________________________________________________________________________________\n",
      "activation_14 (Activation)      (None, 2, 2, 512)    0           batch_normalization_14[0][0]     \n",
      "__________________________________________________________________________________________________\n",
      "conv2d_18 (Conv2D)              (None, 2, 2, 512)    131584      add_6[0][0]                      \n",
      "__________________________________________________________________________________________________\n",
      "conv2d_17 (Conv2D)              (None, 2, 2, 512)    2359808     activation_14[0][0]              \n",
      "__________________________________________________________________________________________________\n",
      "add_7 (Add)                     (None, 2, 2, 512)    0           conv2d_18[0][0]                  \n",
      "                                                                 conv2d_17[0][0]                  \n",
      "__________________________________________________________________________________________________\n",
      "batch_normalization_15 (BatchNo (None, 2, 2, 512)    2048        add_7[0][0]                      \n",
      "__________________________________________________________________________________________________\n",
      "activation_15 (Activation)      (None, 2, 2, 512)    0           batch_normalization_15[0][0]     \n",
      "__________________________________________________________________________________________________\n",
      "conv2d_19 (Conv2D)              (None, 2, 2, 512)    2359808     activation_15[0][0]              \n",
      "__________________________________________________________________________________________________\n",
      "batch_normalization_16 (BatchNo (None, 2, 2, 512)    2048        conv2d_19[0][0]                  \n",
      "__________________________________________________________________________________________________\n",
      "activation_16 (Activation)      (None, 2, 2, 512)    0           batch_normalization_16[0][0]     \n",
      "__________________________________________________________________________________________________\n",
      "conv2d_20 (Conv2D)              (None, 2, 2, 512)    2359808     activation_16[0][0]              \n",
      "__________________________________________________________________________________________________\n",
      "add_8 (Add)                     (None, 2, 2, 512)    0           add_7[0][0]                      \n",
      "                                                                 conv2d_20[0][0]                  \n",
      "__________________________________________________________________________________________________\n",
      "batch_normalization_17 (BatchNo (None, 2, 2, 512)    2048        add_8[0][0]                      \n",
      "__________________________________________________________________________________________________\n",
      "activation_17 (Activation)      (None, 2, 2, 512)    0           batch_normalization_17[0][0]     \n",
      "__________________________________________________________________________________________________\n",
      "average_pooling2d_1 (AveragePoo (None, 1, 1, 512)    0           activation_17[0][0]              \n",
      "__________________________________________________________________________________________________\n",
      "flatten_1 (Flatten)             (None, 512)          0           average_pooling2d_1[0][0]        \n",
      "__________________________________________________________________________________________________\n",
      "dense_1 (Dense)                 (None, 2)            1026        flatten_1[0][0]                  \n",
      "==================================================================================================\n",
      "Total params: 11,182,082\n",
      "Trainable params: 11,174,274\n",
      "Non-trainable params: 7,808\n",
      "__________________________________________________________________________________________________\n"
     ]
    }
   ],
   "source": [
    "from __future__ import print_function\n",
    "import keras\n",
    "from keras.models import Sequential\n",
    "from keras.layers import Dense, Dropout, Flatten\n",
    "from keras.layers import Conv2D, MaxPooling2D\n",
    "from keras import backend as K\n",
    "from resnet import ResnetBuilder\n",
    "\n",
    "use_resnet = True\n",
    "\n",
    "num_classes = 2\n",
    "\n",
    "if (use_resnet == False):\n",
    "    # build a simple model\n",
    "    model = Sequential()\n",
    "\n",
    "    input_shape = (im_w, im_h, im_c)\n",
    "    \n",
    "\n",
    "    model.add(Conv2D(32, (5, 5), activation='relu', input_shape=input_shape, padding='same'))\n",
    "    model.add(MaxPooling2D(pool_size=(2, 2)))\n",
    "    model.add(Conv2D(64, (5, 5), activation='relu', padding='same'))\n",
    "    model.add(MaxPooling2D(pool_size=(4, 4)))\n",
    "    model.add(Conv2D(128, (5, 5), activation='relu', padding='same'))\n",
    "    model.add(MaxPooling2D(pool_size=(2, 2)))\n",
    "    model.add(Flatten())\n",
    "    model.add(Dropout(0.5))\n",
    "    model.add(Dense(1024, activation='relu'))\n",
    "    model.add(Dropout(0.5))\n",
    "    model.add(Dense(num_classes, activation='softmax'))\n",
    "\n",
    "    model.summary()\n",
    "else:\n",
    "    input_shape_resnet = (im_c,im_w,im_h)\n",
    "    model = ResnetBuilder.build_resnet_18(input_shape_resnet, num_classes)\n",
    "    model.summary()"
   ]
  },
  {
   "cell_type": "code",
   "execution_count": 11,
   "metadata": {
    "collapsed": true
   },
   "outputs": [],
   "source": [
    "# compile model\n",
    "model.compile(loss=keras.losses.categorical_crossentropy,\n",
    "              optimizer=keras.optimizers.Adam(),\n",
    "              metrics=['accuracy'])"
   ]
  },
  {
   "cell_type": "code",
   "execution_count": 12,
   "metadata": {
    "collapsed": true
   },
   "outputs": [],
   "source": [
    "import numpy as np\n",
    "import sklearn.metrics\n",
    "\n",
    "def comp_stats(gen):\n",
    "    \n",
    "    y_total = np.empty((0,2))\n",
    "    for i in range(0, len(gen)):\n",
    "        (X,y) = gen[i]\n",
    "        y_total = np.concatenate((y_total,y), axis=0)\n",
    "    return np.sum(y_total, axis=0)\n",
    "\n",
    "def comp_metrics(gen, model):\n",
    "    y_total = np.empty((0,2))\n",
    "    y_total_pred = np.empty((0,2))\n",
    "    for i in range(0, len(gen)):\n",
    "        (X,y) = gen[i]\n",
    "        y_total = np.concatenate((y_total,y), axis=0)\n",
    "        y_pred = model.predict(X)\n",
    "        y_total_pred = np.concatenate((y_total_pred, y_pred), axis=0)\n",
    "    acc = sklearn.metrics.accuracy_score(y_total, y_total_pred > 0.5)\n",
    "    \n",
    "    class_freq = np.sum(y_total,axis=0)\n",
    "    accuracy_chance = (class_freq[0]+class_freq[1]-class_freq[1])/(class_freq[1]+class_freq[0])\n",
    "    \n",
    "    auc = sklearn.metrics.roc_auc_score(y_total, y_total_pred)\n",
    "    \n",
    "    apr = sklearn.metrics.average_precision_score(y_total, y_total_pred)\n",
    "    \n",
    "    return (acc, accuracy_chance, auc, apr)\n",
    "    "
   ]
  },
  {
   "cell_type": "code",
   "execution_count": 16,
   "metadata": {
    "collapsed": true
   },
   "outputs": [],
   "source": [
    "from keras.callbacks import Callback\n",
    "\n",
    "class roc_callback(Callback):\n",
    "    def __init__(self,gen_trn,gen_val,use_trn):\n",
    "        self.gen_trn = gen_trn\n",
    "        self.gen_val = gen_val\n",
    "        self.auc_trn = []\n",
    "        self.auc_val = []\n",
    "        self.acc_trn = []\n",
    "        self.acc_val = []\n",
    "        self.apr_trn = []\n",
    "        self.apr_val = []\n",
    "        self.use_trn = use_trn\n",
    "\n",
    "    def on_train_begin(self, logs={}):\n",
    "        return\n",
    "\n",
    "    def on_train_end(self, logs={}):\n",
    "        return\n",
    "\n",
    "    def on_epoch_begin(self, epoch, logs={}):\n",
    "        return\n",
    "\n",
    "    def on_epoch_end(self, epoch, logs={}):\n",
    "        \n",
    "        (acc_val_tmp, acc_chance, auc_val_tmp, apr_val_tmp) = comp_metrics(self.gen_val, self.model)\n",
    "        \n",
    "        self.acc_val.append(acc_val_tmp)\n",
    "        self.auc_val.append(auc_val_tmp)\n",
    "        self.apr_val.append(apr_val_tmp)\n",
    "        \n",
    "        if (self.use_trn):\n",
    "            (acc_trn_tmp, acc_chance, auc_trn_tmp, apr_trn_tmp) = comp_metrics(self.gen_trn, self.model)\n",
    "\n",
    "            self.acc_trn.append(acc_trn_tmp)\n",
    "            self.auc_trn.append(auc_trn_tmp)\n",
    "            self.apr_trn.append(apr_trn_tmp)\n",
    "\n",
    "            print('\\rtrn-auc: %s - val-auc: %s' % (str(round(auc_trn_tmp,4)),str(round(auc_val_tmp,4))),end=100*' '+'\\n')\n",
    "        else:\n",
    "            print('\\rval-acc: %s - val-auc: %s' % (str(round(acc_val_tmp,4)),str(round(auc_val_tmp,4))),end=100*' '+'\\n')\n",
    "        return\n",
    "\n",
    "    def on_batch_begin(self, batch, logs={}):\n",
    "        return\n",
    "\n",
    "    def on_batch_end(self, batch, logs={}):\n",
    "        return"
   ]
  },
  {
   "cell_type": "code",
   "execution_count": 17,
   "metadata": {
    "collapsed": true
   },
   "outputs": [],
   "source": [
    "# train the model\n",
    "\n",
    "my_auc_callback = roc_callback(gen_trn,gen_val,use_trn=False) # if we set use_trn to false, the computation time is much faster\n",
    "#my_auc_callback.model = model\n",
    "#my_auc_callback.on_epoch_end(epoch=[])"
   ]
  },
  {
   "cell_type": "code",
   "execution_count": 18,
   "metadata": {
    "scrolled": false
   },
   "outputs": [
    {
     "name": "stdout",
     "output_type": "stream",
     "text": [
      "Epoch 1/50\n",
      " - 24s - loss: 0.9850 - acc: 0.8810\n",
      "val-acc: 0.9112 - val-auc: 0.9627                                                                                                    \n",
      "Epoch 2/50\n",
      " - 23s - loss: 0.7148 - acc: 0.9310\n",
      "val-acc: 0.9255 - val-auc: 0.9699                                                                                                    \n",
      "Epoch 3/50\n",
      " - 23s - loss: 0.5851 - acc: 0.9521\n",
      "val-acc: 0.8697 - val-auc: 0.9644                                                                                                    \n",
      "Epoch 4/50\n",
      " - 23s - loss: 0.5261 - acc: 0.9603\n",
      "val-acc: 0.8921 - val-auc: 0.8721                                                                                                    \n",
      "Epoch 5/50\n",
      " - 23s - loss: 0.6412 - acc: 0.9372\n",
      "val-acc: 0.9515 - val-auc: 0.9899                                                                                                    \n",
      "Epoch 6/50\n",
      " - 23s - loss: 0.4403 - acc: 0.9751\n",
      "val-acc: 0.9709 - val-auc: 0.9869                                                                                                    \n",
      "Epoch 7/50\n",
      " - 23s - loss: 0.4160 - acc: 0.9759\n",
      "val-acc: 0.9607 - val-auc: 0.9872                                                                                                    \n",
      "Epoch 8/50\n",
      " - 24s - loss: 0.3871 - acc: 0.9768\n",
      "val-acc: 0.9663 - val-auc: 0.9866                                                                                                    \n",
      "Epoch 9/50\n",
      " - 23s - loss: 0.3756 - acc: 0.9776\n",
      "val-acc: 0.9773 - val-auc: 0.992                                                                                                    \n",
      "Epoch 10/50\n",
      " - 23s - loss: 0.3214 - acc: 0.9862\n",
      "val-acc: 0.9745 - val-auc: 0.9893                                                                                                    \n",
      "Epoch 11/50\n",
      " - 23s - loss: 0.3429 - acc: 0.9795\n",
      "val-acc: 0.9694 - val-auc: 0.9837                                                                                                    \n",
      "Epoch 12/50\n",
      " - 23s - loss: 0.3830 - acc: 0.9748\n",
      "val-acc: 0.9118 - val-auc: 0.6711                                                                                                    \n",
      "Epoch 13/50\n",
      " - 23s - loss: 0.7185 - acc: 0.9162\n",
      "val-acc: 0.963 - val-auc: 0.9842                                                                                                    \n",
      "Epoch 14/50\n",
      " - 23s - loss: 0.4042 - acc: 0.9781\n",
      "val-acc: 0.9722 - val-auc: 0.9925                                                                                                    \n",
      "Epoch 15/50\n",
      " - 23s - loss: 0.3488 - acc: 0.9843\n",
      "val-acc: 0.9765 - val-auc: 0.993                                                                                                    \n",
      "Epoch 16/50\n",
      " - 24s - loss: 0.3403 - acc: 0.9824\n",
      "val-acc: 0.9694 - val-auc: 0.984                                                                                                    \n",
      "Epoch 17/50\n",
      " - 24s - loss: 0.3181 - acc: 0.9867\n",
      "val-acc: 0.9704 - val-auc: 0.9903                                                                                                    \n",
      "Epoch 18/50\n",
      " - 24s - loss: 0.3027 - acc: 0.9866\n",
      "val-acc: 0.9021 - val-auc: 0.9489                                                                                                    \n",
      "Epoch 19/50\n",
      " - 25s - loss: 0.3100 - acc: 0.9859\n",
      "val-acc: 0.9816 - val-auc: 0.992                                                                                                    \n",
      "Epoch 20/50\n",
      " - 23s - loss: 0.2811 - acc: 0.9888\n",
      "val-acc: 0.9804 - val-auc: 0.993                                                                                                    \n",
      "Epoch 21/50\n",
      " - 23s - loss: 0.3331 - acc: 0.9813\n",
      "val-acc: 0.8398 - val-auc: 0.5879                                                                                                    \n",
      "Epoch 22/50\n",
      " - 23s - loss: 0.6614 - acc: 0.9190\n",
      "val-acc: 0.9674 - val-auc: 0.9883                                                                                                    \n",
      "Epoch 23/50\n",
      " - 23s - loss: 0.3662 - acc: 0.9782\n",
      "val-acc: 0.9439 - val-auc: 0.9844                                                                                                    \n",
      "Epoch 24/50\n",
      " - 23s - loss: 0.3281 - acc: 0.9827\n",
      "val-acc: 0.9658 - val-auc: 0.9905                                                                                                    \n",
      "Epoch 25/50\n",
      " - 26s - loss: 0.3057 - acc: 0.9864\n",
      "val-acc: 0.9691 - val-auc: 0.9911                                                                                                    \n",
      "Epoch 26/50\n",
      " - 24s - loss: 0.2733 - acc: 0.9905\n",
      "val-acc: 0.975 - val-auc: 0.9899                                                                                                    \n",
      "Epoch 27/50\n",
      " - 23s - loss: 0.2638 - acc: 0.9912\n",
      "val-acc: 0.9773 - val-auc: 0.9939                                                                                                    \n",
      "Epoch 28/50\n",
      " - 23s - loss: 0.2497 - acc: 0.9930\n",
      "val-acc: 0.9457 - val-auc: 0.9885                                                                                                    \n",
      "Epoch 29/50\n",
      " - 23s - loss: 0.2797 - acc: 0.9852\n",
      "val-acc: 0.9799 - val-auc: 0.9941                                                                                                    \n",
      "Epoch 30/50\n",
      " - 25s - loss: 0.2449 - acc: 0.9927\n",
      "val-acc: 0.9872 - val-auc: 0.9937                                                                                                    \n",
      "Epoch 31/50\n",
      " - 23s - loss: 0.2553 - acc: 0.9891\n",
      "val-acc: 0.9712 - val-auc: 0.9898                                                                                                    \n",
      "Epoch 32/50\n",
      " - 23s - loss: 0.2610 - acc: 0.9881\n",
      "val-acc: 0.9796 - val-auc: 0.991                                                                                                    \n",
      "Epoch 33/50\n",
      " - 23s - loss: 0.2626 - acc: 0.9869\n",
      "val-acc: 0.9824 - val-auc: 0.9913                                                                                                    \n",
      "Epoch 34/50\n",
      " - 23s - loss: 0.2435 - acc: 0.9905\n",
      "val-acc: 0.9671 - val-auc: 0.9871                                                                                                    \n",
      "Epoch 35/50\n",
      " - 23s - loss: 0.2599 - acc: 0.9877\n",
      "val-acc: 0.974 - val-auc: 0.9889                                                                                                    \n",
      "Epoch 36/50\n",
      " - 24s - loss: 0.2620 - acc: 0.9875\n",
      "val-acc: 0.9118 - val-auc: 0.6099                                                                                                    \n",
      "Epoch 37/50\n",
      " - 23s - loss: 0.3860 - acc: 0.9687\n",
      "val-acc: 0.9778 - val-auc: 0.9907                                                                                                    \n",
      "Epoch 38/50\n",
      " - 23s - loss: 0.2505 - acc: 0.9911\n",
      "val-acc: 0.9778 - val-auc: 0.9896                                                                                                    \n",
      "Epoch 39/50\n",
      " - 23s - loss: 0.2537 - acc: 0.9893\n",
      "val-acc: 0.9765 - val-auc: 0.9925                                                                                                    \n",
      "Epoch 40/50\n",
      " - 23s - loss: 0.2824 - acc: 0.9871\n",
      "val-acc: 0.9118 - val-auc: 0.737                                                                                                    \n",
      "Epoch 41/50\n",
      " - 23s - loss: 0.4806 - acc: 0.9506\n",
      "val-acc: 0.9651 - val-auc: 0.9867                                                                                                    \n",
      "Epoch 42/50\n",
      " - 24s - loss: 0.2905 - acc: 0.9882\n",
      "val-acc: 0.96 - val-auc: 0.9836                                                                                                    \n",
      "Epoch 43/50\n",
      " - 23s - loss: 0.2686 - acc: 0.9909\n",
      "val-acc: 0.9806 - val-auc: 0.9938                                                                                                    \n",
      "Epoch 44/50\n",
      " - 23s - loss: 0.2421 - acc: 0.9942\n",
      "val-acc: 0.9819 - val-auc: 0.9947                                                                                                    \n",
      "Epoch 45/50\n",
      " - 23s - loss: 0.2381 - acc: 0.9929\n",
      "val-acc: 0.9783 - val-auc: 0.9923                                                                                                    \n",
      "Epoch 46/50\n",
      " - 24s - loss: 0.2532 - acc: 0.9880\n"
     ]
    },
    {
     "name": "stdout",
     "output_type": "stream",
     "text": [
      "val-acc: 0.9737 - val-auc: 0.9895                                                                                                    \n",
      "Epoch 47/50\n",
      " - 23s - loss: 0.2277 - acc: 0.9940\n",
      "val-acc: 0.9814 - val-auc: 0.9915                                                                                                    \n",
      "Epoch 48/50\n",
      " - 23s - loss: 0.2371 - acc: 0.9920\n",
      "val-acc: 0.9829 - val-auc: 0.992                                                                                                    \n",
      "Epoch 49/50\n",
      " - 23s - loss: 0.2109 - acc: 0.9956\n",
      "val-acc: 0.9847 - val-auc: 0.9945                                                                                                    \n",
      "Epoch 50/50\n",
      " - 23s - loss: 0.2361 - acc: 0.9896\n",
      "val-acc: 0.9702 - val-auc: 0.9906                                                                                                    \n",
      "Training complete!\n"
     ]
    }
   ],
   "source": [
    "history = model.fit_generator(gen_trn, # input data\n",
    "    steps_per_epoch=len(gen_trn),\n",
    "    epochs=50,      \n",
    "    verbose=2,\n",
    "    class_weight={0:1, 1:8},\n",
    "    use_multiprocessing=False,\n",
    "    callbacks=[my_auc_callback])    \n",
    "\n",
    "print('Training complete!')"
   ]
  },
  {
   "cell_type": "code",
   "execution_count": 19,
   "metadata": {},
   "outputs": [
    {
     "data": {
      "image/png": "[encoded data removed]",
      "text/plain": [
       "<matplotlib.figure.Figure at 0x1bd1e0df6a0>"
      ]
     },
     "metadata": {},
     "output_type": "display_data"
    },
    {
     "data": {
      "image/png": "[encoded data removed]",
      "text/plain": [
       "<matplotlib.figure.Figure at 0x1bd1e0a1f98>"
      ]
     },
     "metadata": {},
     "output_type": "display_data"
    },
    {
     "data": {
      "image/png": "[encoded data removed]",
      "text/plain": [
       "<matplotlib.figure.Figure at 0x1bd1df4cb38>"
      ]
     },
     "metadata": {},
     "output_type": "display_data"
    },
    {
     "data": {
      "image/png": "[encoded data removed]",
      "text/plain": [
       "<matplotlib.figure.Figure at 0x1bd1dfcfda0>"
      ]
     },
     "metadata": {},
     "output_type": "display_data"
    }
   ],
   "source": [
    "import matplotlib.pyplot as plt\n",
    "\n",
    "# Plot training & validation accuracy values\n",
    "plt.plot(history.history['acc'])\n",
    "plt.plot(my_auc_callback.acc_val)\n",
    "plt.title('Model accuracy')\n",
    "plt.ylabel('Accuracy')\n",
    "plt.xlabel('Epoch')\n",
    "plt.legend(['Train', 'Val'], loc='upper left')\n",
    "plt.show()\n",
    "\n",
    "# Plot training & validation loss values\n",
    "plt.plot(history.history['loss'])\n",
    "#plt.plot(history.history['val_loss'])\n",
    "plt.title('Model loss')\n",
    "plt.ylabel('Loss')\n",
    "plt.xlabel('Epoch')\n",
    "plt.legend(['Train', 'Val'], loc='upper left')\n",
    "plt.show()\n",
    "\n",
    "# Plot training & validation AUC values\n",
    "plt.plot(my_auc_callback.auc_trn)\n",
    "plt.plot(my_auc_callback.auc_val)\n",
    "plt.title('Model AUC ROC')\n",
    "plt.ylabel('AUC ROC')\n",
    "plt.xlabel('Epoch')\n",
    "plt.legend(['Train', 'Val'], loc='upper left')\n",
    "plt.show()\n",
    "\n",
    "# Plot training & validation APR values\n",
    "plt.plot(my_auc_callback.apr_trn)\n",
    "plt.plot(my_auc_callback.apr_val)\n",
    "plt.title('Model APR')\n",
    "plt.ylabel('Average precision')\n",
    "plt.xlabel('Epoch')\n",
    "plt.legend(['Train', 'Val'], loc='upper left')\n",
    "plt.show()"
   ]
  },
  {
   "cell_type": "code",
   "execution_count": 20,
   "metadata": {},
   "outputs": [
    {
     "name": "stdout",
     "output_type": "stream",
     "text": [
      "(0.9747513389441469, 0.9000255036980362, 0.9902397626661885, 0.9730729801772227)\n",
      "[3529.  392.]\n"
     ]
    }
   ],
   "source": [
    "print(comp_metrics(gen_tst, model))\n",
    "print(comp_stats(gen_tst))"
   ]
  },
  {
   "cell_type": "code",
   "execution_count": null,
   "metadata": {
    "collapsed": true
   },
   "outputs": [],
   "source": [
    "model.save('trained_german.h5')"
   ]
  },
  {
   "cell_type": "code",
   "execution_count": null,
   "metadata": {
    "collapsed": true
   },
   "outputs": [],
   "source": []
  }
 ],
 "metadata": {
  "anaconda-cloud": {},
  "kernelspec": {
   "display_name": "Python 3",
   "language": "python",
   "name": "python3"
  },
  "language_info": {
   "codemirror_mode": {
    "name": "ipython",
    "version": 3
   },
   "file_extension": ".py",
   "mimetype": "text/x-python",
   "name": "python",
   "nbconvert_exporter": "python",
   "pygments_lexer": "ipython3",
   "version": "3.5.2"
  }
 },
 "nbformat": 4,
 "nbformat_minor": 1
}
